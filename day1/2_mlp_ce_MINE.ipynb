{
 "cells": [
  {
   "cell_type": "markdown",
   "metadata": {},
   "source": [
    "# MNIST\n",
    "\n",
    "FC network on the MNIST dataset\n",
    "\n",
    "# Guided exercise\n",
    "\n",
    "\n",
    "- The code will run but the network will not train: we will read carefully the code together\n",
    "and try to figure out where the problem is.\n",
    "\n",
    "Then you should (we will do it together anyway...)\n",
    "\n",
    "- Run it and plot training and test loss and error\n",
    "\n",
    "- Experiment a bit with changing the hidden layer size\n",
    "\n",
    "- Define a new network with two hidden layers of sizes [50,30] \n",
    "and train it for a few epochs\n",
    "\n",
    "- Write a function to extract representations in both hidden layers\n",
    "\n",
    "- Change loss function by adding a L2 regularization (see documentation and the implementation of \n",
    "    optim.SGD)\n",
    "  can you make sense of what exactly happens there? This is also key if you want to modify the learning\n",
    "  rule by yourself, be it applying L1 regularization or define some fancier learning rules.\n",
    "  On may want, for example, to *block* learning of just one parameter or a group of parameters, but\n",
    "  not all the parameters of a *group*, like all the parameters in a layer.\n",
    "  This could be only done (to my knowledge) by customized manipulations such as for example\n",
    "  *masking*, we will discuss it for the exam.\n",
    "  \n",
    "- Make a T-SNE 2D visualization of the representations in the two\n",
    "hidden layers with $N=1000$ test samples. (Solution: you may want to define a new\n",
    "loader (custom_loader) for this purpose, and once you have it you may need to sample from it\n",
    "sample = next(iter(custom_loader)))\n",
    ")\n",
    "\n",
    "\n",
    "Now, for the rest of this day, you can experiment by yourself or retrace some of our passages.\n",
    "You don't have to submit anything, just try whatever you want."
   ]
  },
  {
   "cell_type": "code",
   "execution_count": 1,
   "metadata": {},
   "outputs": [],
   "source": [
    "%matplotlib inline\n",
    "%load_ext autoreload\n",
    "%autoreload 2"
   ]
  },
  {
   "cell_type": "code",
   "execution_count": 44,
   "metadata": {},
   "outputs": [],
   "source": [
    "from __future__ import print_function\n",
    "import argparse\n",
    "import torch\n",
    "import torch.nn as nn\n",
    "import torch.nn.functional as F\n",
    "import torch.optim as optim\n",
    "from torchvision import datasets, transforms\n",
    "from torchsummary import summary\n",
    "from matplotlib import pyplot as plt\n",
    "from sklearn.manifold import TSNE\n",
    "import math"
   ]
  },
  {
   "cell_type": "code",
   "execution_count": 3,
   "metadata": {},
   "outputs": [],
   "source": [
    "class FCNet(nn.Module):\n",
    "    def __init__(self,din=784, dh=30, dout=10):\n",
    "        super(FCNet, self).__init__()\n",
    "        \n",
    "        self.lin1 = nn.Linear(din, dh)\n",
    "        self.lin2 = nn.Linear(dh, dout)\n",
    "    \n",
    "    def forward(self, x):    \n",
    "        x = torch.sigmoid(self.lin1(x)) \n",
    "        return  F.log_softmax(self.lin2(x))  \n"
   ]
  },
  {
   "cell_type": "code",
   "execution_count": 60,
   "metadata": {},
   "outputs": [],
   "source": [
    "# Add another hidden layer\n",
    "class DeeperFCNet(nn.Module):\n",
    "    def __init__(self,din=784, dh1=50, dh2=30, dout=10):\n",
    "        super(DeeperFCNet, self).__init__()\n",
    "        self.input_size=(din,)\n",
    "        self.lin1 = nn.Linear(din, dh1)\n",
    "        \n",
    "        self.lin2 = nn.Linear(dh1, dh2)\n",
    "        \n",
    "        self.lin3 = nn.Linear(dh2, dout)\n",
    "    \n",
    "    def forward(self, x):\n",
    "        \n",
    "        x = torch.sigmoid(self.lin1(x))\n",
    "        \n",
    "        x = torch.sigmoid(self.lin2(x))\n",
    "        \n",
    "        return  F.log_softmax(self.lin3(x), dim=1)  \n",
    "    \n",
    "    \n",
    "    def extract(self, x):\n",
    "        \n",
    "        h1 = torch.sigmoid(self.lin1(x))\n",
    "        \n",
    "        h2 = torch.sigmoid(self.lin2(h1))\n",
    "        \n",
    "        return h1, h2\n",
    "        "
   ]
  },
  {
   "cell_type": "code",
   "execution_count": 39,
   "metadata": {},
   "outputs": [
    {
     "name": "stdout",
     "output_type": "stream",
     "text": [
      "----------------------------------------------------------------\n",
      "        Layer (type)               Output Shape         Param #\n",
      "================================================================\n",
      "            Linear-1                   [-1, 50]          39,250\n",
      "            Linear-2                   [-1, 30]           1,530\n",
      "            Linear-3                   [-1, 10]             310\n",
      "================================================================\n",
      "Total params: 41,090\n",
      "Trainable params: 41,090\n",
      "Non-trainable params: 0\n",
      "----------------------------------------------------------------\n",
      "Input size (MB): 0.00\n",
      "Forward/backward pass size (MB): 0.00\n",
      "Params size (MB): 0.16\n",
      "Estimated Total Size (MB): 0.16\n",
      "----------------------------------------------------------------\n"
     ]
    }
   ],
   "source": [
    "DFCN_model_default=DeeperFCNet()\n",
    "summary(DFCN_model_default,DFCN_model_default.input_size)"
   ]
  },
  {
   "cell_type": "code",
   "execution_count": 40,
   "metadata": {},
   "outputs": [
    {
     "name": "stdout",
     "output_type": "stream",
     "text": [
      "----------------------------------------------------------------\n",
      "        Layer (type)               Output Shape         Param #\n",
      "================================================================\n",
      "            Linear-1                   [-1, 30]          23,550\n",
      "            Linear-2                   [-1, 30]             930\n",
      "            Linear-3                   [-1, 10]             310\n",
      "================================================================\n",
      "Total params: 24,790\n",
      "Trainable params: 24,790\n",
      "Non-trainable params: 0\n",
      "----------------------------------------------------------------\n",
      "Input size (MB): 0.00\n",
      "Forward/backward pass size (MB): 0.00\n",
      "Params size (MB): 0.09\n",
      "Estimated Total Size (MB): 0.10\n",
      "----------------------------------------------------------------\n"
     ]
    }
   ],
   "source": [
    "DFCN_model_30_30=DeeperFCNet(dh1=30,dh2=30)\n",
    "summary(DFCN_model_30_30,DFCN_model_30_30.input_size)"
   ]
  },
  {
   "cell_type": "code",
   "execution_count": 64,
   "metadata": {},
   "outputs": [
    {
     "name": "stdout",
     "output_type": "stream",
     "text": [
      "----------------------------------------------------------------\n",
      "        Layer (type)               Output Shape         Param #\n",
      "================================================================\n",
      "            Linear-1                   [-1, 50]          39,250\n",
      "            Linear-2                   [-1, 50]           2,550\n",
      "            Linear-3                   [-1, 10]             510\n",
      "================================================================\n",
      "Total params: 42,310\n",
      "Trainable params: 42,310\n",
      "Non-trainable params: 0\n",
      "----------------------------------------------------------------\n",
      "Input size (MB): 0.00\n",
      "Forward/backward pass size (MB): 0.00\n",
      "Params size (MB): 0.16\n",
      "Estimated Total Size (MB): 0.17\n",
      "----------------------------------------------------------------\n"
     ]
    }
   ],
   "source": [
    "DFCN_model_50_50=DeeperFCNet(dh1=50,dh2=50)\n",
    "summary(DFCN_model_50_50,DFCN_model_50_50.input_size)"
   ]
  },
  {
   "cell_type": "markdown",
   "metadata": {},
   "source": [
    "Questions:\n",
    "- is this a *deep* network? **R** :  It has more layers so yes, it is deep\n",
    "- how many hidden layers do we have? **R** : 2 hidden layers of dimensions hd1 and hd2\n",
    "- what is the number of parameters?\n",
    "- how to you forward pass an input data?"
   ]
  },
  {
   "cell_type": "code",
   "execution_count": 66,
   "metadata": {},
   "outputs": [],
   "source": [
    "n = 1 # n.of data samples\n",
    "x = torch.randn(1,784, device=\"cpu\")\n",
    "y = torch.sin(x)\n",
    "y_1=DFCN_model_50_50.forward(x)"
   ]
  },
  {
   "cell_type": "code",
   "execution_count": null,
   "metadata": {},
   "outputs": [],
   "source": []
  },
  {
   "cell_type": "code",
   "execution_count": 5,
   "metadata": {},
   "outputs": [],
   "source": [
    "#F.nll_loss?"
   ]
  },
  {
   "cell_type": "markdown",
   "metadata": {},
   "source": [
    "[o1,o2,....o10]\n",
    "\n",
    "max is o2 ---> \"1\"\n",
    "y == 1 'hit'\n",
    "otherwise 'miss'\n",
    "\n",
    "n.of hits/n.of samples = accuracy"
   ]
  },
  {
   "cell_type": "code",
   "execution_count": 6,
   "metadata": {},
   "outputs": [],
   "source": [
    "def train(model, device, train_loader, optimizer, epoch):\n",
    "    model.train()\n",
    "    for batch_idx, (data, target) in enumerate(train_loader):\n",
    "        data, target = data.to(device), target.to(device)\n",
    "        data = data.view(-1,784)\n",
    "        \n",
    "        optimizer.zero_grad()\n",
    "        \n",
    "        output = model(data)\n",
    "        \n",
    "        loss = F.nll_loss(output, target)\n",
    "        \n",
    "        loss.backward()\n",
    "        \n",
    "        optimizer.step()\n",
    "        \n",
    "        if batch_idx % log_interval == 0:\n",
    "            print('Train Epoch: {} [{}/{} ({:.0f}%)]\\tLoss: {:.6f}'.format(\n",
    "                epoch, batch_idx * len(data), len(train_loader.dataset),\n",
    "                100. * batch_idx / len(train_loader), loss.item()))\n",
    "        "
   ]
  },
  {
   "cell_type": "code",
   "execution_count": 7,
   "metadata": {},
   "outputs": [],
   "source": [
    "def test(model, device, test_loader):\n",
    "    model.eval()\n",
    "    test_loss = 0\n",
    "    correct = 0\n",
    "    with torch.no_grad():\n",
    "        for data, target in test_loader:\n",
    "            data, target = data.to(device), target.to(device)\n",
    "            data = data.view(-1,784)\n",
    "            output = model(data)\n",
    "            test_loss += F.nll_loss(output, target, reduction='sum').item() # sum up batch loss\n",
    "            pred = output.argmax(dim=1, keepdim=True) # get the index of the max log-probability\n",
    "            correct += pred.eq(target.view_as(pred)).sum().item()\n",
    "\n",
    "    test_loss /= len(test_loader.dataset)\n",
    "\n",
    "    print('\\nTest set: Average loss: {:.4f}, Accuracy: {}/{} ({:.0f}%)\\n'.format(\n",
    "        test_loss, correct, len(test_loader.dataset),\n",
    "        100. * correct / len(test_loader.dataset)))"
   ]
  },
  {
   "cell_type": "code",
   "execution_count": 8,
   "metadata": {},
   "outputs": [],
   "source": [
    "# Training settings\n",
    "input_size=(784,)\n",
    "batch_size=64\n",
    "test_batch_size=1000\n",
    "epochs=10\n",
    "lr=0.01\n",
    "momentum=0.0   \n",
    "seed=1\n",
    "log_interval=100"
   ]
  },
  {
   "cell_type": "code",
   "execution_count": 9,
   "metadata": {},
   "outputs": [],
   "source": [
    "use_cuda = torch.cuda.is_available()\n",
    "torch.manual_seed(seed)\n",
    "device = torch.device(\"cuda\" if use_cuda else \"cpu\")\n",
    "kwargs = {'num_workers': 1, 'pin_memory': True} if use_cuda else {}"
   ]
  },
  {
   "cell_type": "code",
   "execution_count": 10,
   "metadata": {},
   "outputs": [],
   "source": [
    "train_loader = torch.utils.data.DataLoader(\n",
    "        datasets.MNIST('../data', train=True, download=True,\n",
    "                       transform=transforms.Compose([\n",
    "                           transforms.ToTensor(),\n",
    "                           transforms.Normalize((0.1307,), (0.3081,))\n",
    "                       ])),\n",
    "        batch_size=batch_size, shuffle=True, **kwargs)"
   ]
  },
  {
   "cell_type": "code",
   "execution_count": 11,
   "metadata": {},
   "outputs": [],
   "source": [
    "test_loader = torch.utils.data.DataLoader(\n",
    "        datasets.MNIST('../data', train=False, transform=transforms.Compose([\n",
    "                           transforms.ToTensor(),\n",
    "                           transforms.Normalize((0.1307,), (0.3081,))\n",
    "                       ])),\n",
    "        batch_size=test_batch_size, shuffle=True, **kwargs)"
   ]
  },
  {
   "cell_type": "code",
   "execution_count": 12,
   "metadata": {},
   "outputs": [],
   "source": [
    "model = FCNet().to(device)"
   ]
  },
  {
   "cell_type": "code",
   "execution_count": 13,
   "metadata": {},
   "outputs": [
    {
     "name": "stdout",
     "output_type": "stream",
     "text": [
      "----------------------------------------------------------------\n",
      "        Layer (type)               Output Shape         Param #\n",
      "================================================================\n",
      "            Linear-1                   [-1, 30]          23,550\n",
      "            Linear-2                   [-1, 10]             310\n",
      "================================================================\n",
      "Total params: 23,860\n",
      "Trainable params: 23,860\n",
      "Non-trainable params: 0\n",
      "----------------------------------------------------------------\n",
      "Input size (MB): 0.00\n",
      "Forward/backward pass size (MB): 0.00\n",
      "Params size (MB): 0.09\n",
      "Estimated Total Size (MB): 0.09\n",
      "----------------------------------------------------------------\n"
     ]
    },
    {
     "name": "stderr",
     "output_type": "stream",
     "text": [
      "/usr/lib/python3/dist-packages/ipykernel_launcher.py:10: UserWarning: Implicit dimension choice for log_softmax has been deprecated. Change the call to include dim=X as an argument.\n",
      "  # Remove the CWD from sys.path while we load stuff.\n"
     ]
    }
   ],
   "source": [
    "summary(model, input_size)"
   ]
  },
  {
   "cell_type": "code",
   "execution_count": 14,
   "metadata": {},
   "outputs": [],
   "source": [
    "optimizer = optim.SGD(model.parameters(), lr=lr, momentum=momentum)"
   ]
  },
  {
   "cell_type": "code",
   "execution_count": 15,
   "metadata": {},
   "outputs": [
    {
     "name": "stderr",
     "output_type": "stream",
     "text": [
      "/usr/lib/python3/dist-packages/ipykernel_launcher.py:10: UserWarning: Implicit dimension choice for log_softmax has been deprecated. Change the call to include dim=X as an argument.\n",
      "  # Remove the CWD from sys.path while we load stuff.\n"
     ]
    },
    {
     "name": "stdout",
     "output_type": "stream",
     "text": [
      "Train Epoch: 1 [0/60000 (0%)]\tLoss: 2.300056\n",
      "Train Epoch: 1 [6400/60000 (11%)]\tLoss: 2.086020\n",
      "Train Epoch: 1 [12800/60000 (21%)]\tLoss: 1.915595\n",
      "Train Epoch: 1 [19200/60000 (32%)]\tLoss: 1.829770\n",
      "Train Epoch: 1 [25600/60000 (43%)]\tLoss: 1.647874\n",
      "Train Epoch: 1 [32000/60000 (53%)]\tLoss: 1.458466\n",
      "Train Epoch: 1 [38400/60000 (64%)]\tLoss: 1.429202\n",
      "Train Epoch: 1 [44800/60000 (75%)]\tLoss: 1.302658\n",
      "Train Epoch: 1 [51200/60000 (85%)]\tLoss: 1.175045\n",
      "Train Epoch: 1 [57600/60000 (96%)]\tLoss: 1.143153\n",
      "\n",
      "Test set: Average loss: 1.1293, Accuracy: 8024/10000 (80%)\n",
      "\n",
      "Train Epoch: 2 [0/60000 (0%)]\tLoss: 1.173451\n",
      "Train Epoch: 2 [6400/60000 (11%)]\tLoss: 1.101333\n",
      "Train Epoch: 2 [12800/60000 (21%)]\tLoss: 0.907203\n",
      "Train Epoch: 2 [19200/60000 (32%)]\tLoss: 0.999890\n",
      "Train Epoch: 2 [25600/60000 (43%)]\tLoss: 0.949019\n",
      "Train Epoch: 2 [32000/60000 (53%)]\tLoss: 0.937695\n",
      "Train Epoch: 2 [38400/60000 (64%)]\tLoss: 0.821587\n",
      "Train Epoch: 2 [44800/60000 (75%)]\tLoss: 0.866027\n",
      "Train Epoch: 2 [51200/60000 (85%)]\tLoss: 0.657972\n",
      "Train Epoch: 2 [57600/60000 (96%)]\tLoss: 0.607163\n",
      "\n",
      "Test set: Average loss: 0.7277, Accuracy: 8682/10000 (87%)\n",
      "\n",
      "Train Epoch: 3 [0/60000 (0%)]\tLoss: 0.737429\n",
      "Train Epoch: 3 [6400/60000 (11%)]\tLoss: 0.780149\n",
      "Train Epoch: 3 [12800/60000 (21%)]\tLoss: 0.872033\n",
      "Train Epoch: 3 [19200/60000 (32%)]\tLoss: 0.679233\n",
      "Train Epoch: 3 [25600/60000 (43%)]\tLoss: 0.650012\n",
      "Train Epoch: 3 [32000/60000 (53%)]\tLoss: 0.742885\n",
      "Train Epoch: 3 [38400/60000 (64%)]\tLoss: 0.591807\n",
      "Train Epoch: 3 [44800/60000 (75%)]\tLoss: 0.545206\n",
      "Train Epoch: 3 [51200/60000 (85%)]\tLoss: 0.516545\n",
      "Train Epoch: 3 [57600/60000 (96%)]\tLoss: 0.728406\n",
      "\n",
      "Test set: Average loss: 0.5579, Accuracy: 8880/10000 (89%)\n",
      "\n",
      "Train Epoch: 4 [0/60000 (0%)]\tLoss: 0.573223\n",
      "Train Epoch: 4 [6400/60000 (11%)]\tLoss: 0.580937\n",
      "Train Epoch: 4 [12800/60000 (21%)]\tLoss: 0.463560\n",
      "Train Epoch: 4 [19200/60000 (32%)]\tLoss: 0.473967\n",
      "Train Epoch: 4 [25600/60000 (43%)]\tLoss: 0.513878\n",
      "Train Epoch: 4 [32000/60000 (53%)]\tLoss: 0.579612\n",
      "Train Epoch: 4 [38400/60000 (64%)]\tLoss: 0.586599\n",
      "Train Epoch: 4 [44800/60000 (75%)]\tLoss: 0.480304\n",
      "Train Epoch: 4 [51200/60000 (85%)]\tLoss: 0.631444\n",
      "Train Epoch: 4 [57600/60000 (96%)]\tLoss: 0.432281\n",
      "\n",
      "Test set: Average loss: 0.4675, Accuracy: 8985/10000 (90%)\n",
      "\n",
      "Train Epoch: 5 [0/60000 (0%)]\tLoss: 0.431583\n",
      "Train Epoch: 5 [6400/60000 (11%)]\tLoss: 0.425461\n",
      "Train Epoch: 5 [12800/60000 (21%)]\tLoss: 0.411288\n",
      "Train Epoch: 5 [19200/60000 (32%)]\tLoss: 0.540189\n",
      "Train Epoch: 5 [25600/60000 (43%)]\tLoss: 0.379151\n",
      "Train Epoch: 5 [32000/60000 (53%)]\tLoss: 0.466795\n",
      "Train Epoch: 5 [38400/60000 (64%)]\tLoss: 0.503264\n",
      "Train Epoch: 5 [44800/60000 (75%)]\tLoss: 0.460469\n",
      "Train Epoch: 5 [51200/60000 (85%)]\tLoss: 0.469588\n",
      "Train Epoch: 5 [57600/60000 (96%)]\tLoss: 0.377915\n",
      "\n",
      "Test set: Average loss: 0.4135, Accuracy: 9062/10000 (91%)\n",
      "\n",
      "Train Epoch: 6 [0/60000 (0%)]\tLoss: 0.461850\n",
      "Train Epoch: 6 [6400/60000 (11%)]\tLoss: 0.423538\n",
      "Train Epoch: 6 [12800/60000 (21%)]\tLoss: 0.355814\n",
      "Train Epoch: 6 [19200/60000 (32%)]\tLoss: 0.316607\n",
      "Train Epoch: 6 [25600/60000 (43%)]\tLoss: 0.297296\n",
      "Train Epoch: 6 [32000/60000 (53%)]\tLoss: 0.373381\n",
      "Train Epoch: 6 [38400/60000 (64%)]\tLoss: 0.418489\n",
      "Train Epoch: 6 [44800/60000 (75%)]\tLoss: 0.502669\n",
      "Train Epoch: 6 [51200/60000 (85%)]\tLoss: 0.419463\n",
      "Train Epoch: 6 [57600/60000 (96%)]\tLoss: 0.300639\n",
      "\n",
      "Test set: Average loss: 0.3771, Accuracy: 9097/10000 (91%)\n",
      "\n",
      "Train Epoch: 7 [0/60000 (0%)]\tLoss: 0.470005\n",
      "Train Epoch: 7 [6400/60000 (11%)]\tLoss: 0.498183\n",
      "Train Epoch: 7 [12800/60000 (21%)]\tLoss: 0.455954\n",
      "Train Epoch: 7 [19200/60000 (32%)]\tLoss: 0.473960\n",
      "Train Epoch: 7 [25600/60000 (43%)]\tLoss: 0.452680\n",
      "Train Epoch: 7 [32000/60000 (53%)]\tLoss: 0.407637\n",
      "Train Epoch: 7 [38400/60000 (64%)]\tLoss: 0.397246\n",
      "Train Epoch: 7 [44800/60000 (75%)]\tLoss: 0.323881\n",
      "Train Epoch: 7 [51200/60000 (85%)]\tLoss: 0.367946\n",
      "Train Epoch: 7 [57600/60000 (96%)]\tLoss: 0.258449\n",
      "\n",
      "Test set: Average loss: 0.3511, Accuracy: 9146/10000 (91%)\n",
      "\n",
      "Train Epoch: 8 [0/60000 (0%)]\tLoss: 0.354408\n",
      "Train Epoch: 8 [6400/60000 (11%)]\tLoss: 0.247787\n",
      "Train Epoch: 8 [12800/60000 (21%)]\tLoss: 0.267625\n",
      "Train Epoch: 8 [19200/60000 (32%)]\tLoss: 0.387099\n",
      "Train Epoch: 8 [25600/60000 (43%)]\tLoss: 0.246252\n",
      "Train Epoch: 8 [32000/60000 (53%)]\tLoss: 0.309156\n",
      "Train Epoch: 8 [38400/60000 (64%)]\tLoss: 0.282052\n",
      "Train Epoch: 8 [44800/60000 (75%)]\tLoss: 0.270245\n",
      "Train Epoch: 8 [51200/60000 (85%)]\tLoss: 0.310781\n",
      "Train Epoch: 8 [57600/60000 (96%)]\tLoss: 0.345343\n",
      "\n",
      "Test set: Average loss: 0.3318, Accuracy: 9179/10000 (92%)\n",
      "\n",
      "Train Epoch: 9 [0/60000 (0%)]\tLoss: 0.564419\n",
      "Train Epoch: 9 [6400/60000 (11%)]\tLoss: 0.297990\n",
      "Train Epoch: 9 [12800/60000 (21%)]\tLoss: 0.289186\n",
      "Train Epoch: 9 [19200/60000 (32%)]\tLoss: 0.226838\n",
      "Train Epoch: 9 [25600/60000 (43%)]\tLoss: 0.354631\n",
      "Train Epoch: 9 [32000/60000 (53%)]\tLoss: 0.228997\n",
      "Train Epoch: 9 [38400/60000 (64%)]\tLoss: 0.319279\n",
      "Train Epoch: 9 [44800/60000 (75%)]\tLoss: 0.302437\n",
      "Train Epoch: 9 [51200/60000 (85%)]\tLoss: 0.188969\n",
      "Train Epoch: 9 [57600/60000 (96%)]\tLoss: 0.492204\n",
      "\n",
      "Test set: Average loss: 0.3172, Accuracy: 9208/10000 (92%)\n",
      "\n",
      "Train Epoch: 10 [0/60000 (0%)]\tLoss: 0.219164\n",
      "Train Epoch: 10 [6400/60000 (11%)]\tLoss: 0.314920\n",
      "Train Epoch: 10 [12800/60000 (21%)]\tLoss: 0.234677\n",
      "Train Epoch: 10 [19200/60000 (32%)]\tLoss: 0.245649\n",
      "Train Epoch: 10 [25600/60000 (43%)]\tLoss: 0.391818\n",
      "Train Epoch: 10 [32000/60000 (53%)]\tLoss: 0.260929\n",
      "Train Epoch: 10 [38400/60000 (64%)]\tLoss: 0.151113\n",
      "Train Epoch: 10 [44800/60000 (75%)]\tLoss: 0.371054\n",
      "Train Epoch: 10 [51200/60000 (85%)]\tLoss: 0.386004\n",
      "Train Epoch: 10 [57600/60000 (96%)]\tLoss: 0.344668\n",
      "\n",
      "Test set: Average loss: 0.3042, Accuracy: 9230/10000 (92%)\n",
      "\n"
     ]
    }
   ],
   "source": [
    "for epoch in range(1, epochs + 1):\n",
    "    train(model, device, train_loader, optimizer, epoch)\n",
    "    test(model, device, test_loader)"
   ]
  },
  {
   "cell_type": "markdown",
   "metadata": {},
   "source": [
    "# Deeper net"
   ]
  },
  {
   "cell_type": "code",
   "execution_count": 16,
   "metadata": {},
   "outputs": [],
   "source": [
    "model3 = DeeperFCNet().to(device)"
   ]
  },
  {
   "cell_type": "code",
   "execution_count": 17,
   "metadata": {},
   "outputs": [],
   "source": [
    "optimizer3 = optim.SGD(model3.parameters(), lr=lr, momentum=momentum)"
   ]
  },
  {
   "cell_type": "code",
   "execution_count": 18,
   "metadata": {},
   "outputs": [
    {
     "name": "stdout",
     "output_type": "stream",
     "text": [
      "Train Epoch: 1 [0/60000 (0%)]\tLoss: 2.291912\n",
      "Train Epoch: 1 [6400/60000 (11%)]\tLoss: 2.298840\n",
      "Train Epoch: 1 [12800/60000 (21%)]\tLoss: 2.308768\n",
      "Train Epoch: 1 [19200/60000 (32%)]\tLoss: 2.279930\n",
      "Train Epoch: 1 [25600/60000 (43%)]\tLoss: 2.283123\n",
      "Train Epoch: 1 [32000/60000 (53%)]\tLoss: 2.273269\n",
      "Train Epoch: 1 [38400/60000 (64%)]\tLoss: 2.253836\n",
      "Train Epoch: 1 [44800/60000 (75%)]\tLoss: 2.260078\n",
      "Train Epoch: 1 [51200/60000 (85%)]\tLoss: 2.255423\n",
      "Train Epoch: 1 [57600/60000 (96%)]\tLoss: 2.256200\n",
      "\n",
      "Test set: Average loss: 2.2337, Accuracy: 3629/10000 (36%)\n",
      "\n",
      "Train Epoch: 2 [0/60000 (0%)]\tLoss: 2.229446\n",
      "Train Epoch: 2 [6400/60000 (11%)]\tLoss: 2.210552\n",
      "Train Epoch: 2 [12800/60000 (21%)]\tLoss: 2.208615\n",
      "Train Epoch: 2 [19200/60000 (32%)]\tLoss: 2.169799\n",
      "Train Epoch: 2 [25600/60000 (43%)]\tLoss: 2.183822\n",
      "Train Epoch: 2 [32000/60000 (53%)]\tLoss: 2.128182\n",
      "Train Epoch: 2 [38400/60000 (64%)]\tLoss: 2.143588\n",
      "Train Epoch: 2 [44800/60000 (75%)]\tLoss: 2.139709\n",
      "Train Epoch: 2 [51200/60000 (85%)]\tLoss: 2.104643\n",
      "Train Epoch: 2 [57600/60000 (96%)]\tLoss: 2.028487\n",
      "\n",
      "Test set: Average loss: 2.0400, Accuracy: 4202/10000 (42%)\n",
      "\n",
      "Train Epoch: 3 [0/60000 (0%)]\tLoss: 2.012073\n",
      "Train Epoch: 3 [6400/60000 (11%)]\tLoss: 2.041450\n",
      "Train Epoch: 3 [12800/60000 (21%)]\tLoss: 1.956179\n",
      "Train Epoch: 3 [19200/60000 (32%)]\tLoss: 1.898882\n",
      "Train Epoch: 3 [25600/60000 (43%)]\tLoss: 1.899365\n",
      "Train Epoch: 3 [32000/60000 (53%)]\tLoss: 1.827481\n",
      "Train Epoch: 3 [38400/60000 (64%)]\tLoss: 1.854843\n",
      "Train Epoch: 3 [44800/60000 (75%)]\tLoss: 1.813705\n",
      "Train Epoch: 3 [51200/60000 (85%)]\tLoss: 1.668969\n",
      "Train Epoch: 3 [57600/60000 (96%)]\tLoss: 1.677152\n",
      "\n",
      "Test set: Average loss: 1.6748, Accuracy: 5304/10000 (53%)\n",
      "\n",
      "Train Epoch: 4 [0/60000 (0%)]\tLoss: 1.675259\n",
      "Train Epoch: 4 [6400/60000 (11%)]\tLoss: 1.630018\n",
      "Train Epoch: 4 [12800/60000 (21%)]\tLoss: 1.621622\n",
      "Train Epoch: 4 [19200/60000 (32%)]\tLoss: 1.483960\n",
      "Train Epoch: 4 [25600/60000 (43%)]\tLoss: 1.446516\n",
      "Train Epoch: 4 [32000/60000 (53%)]\tLoss: 1.672136\n",
      "Train Epoch: 4 [38400/60000 (64%)]\tLoss: 1.468814\n",
      "Train Epoch: 4 [44800/60000 (75%)]\tLoss: 1.470024\n",
      "Train Epoch: 4 [51200/60000 (85%)]\tLoss: 1.516566\n",
      "Train Epoch: 4 [57600/60000 (96%)]\tLoss: 1.271922\n",
      "\n",
      "Test set: Average loss: 1.3661, Accuracy: 6211/10000 (62%)\n",
      "\n",
      "Train Epoch: 5 [0/60000 (0%)]\tLoss: 1.570495\n",
      "Train Epoch: 5 [6400/60000 (11%)]\tLoss: 1.438769\n",
      "Train Epoch: 5 [12800/60000 (21%)]\tLoss: 1.242720\n",
      "Train Epoch: 5 [19200/60000 (32%)]\tLoss: 1.299582\n",
      "Train Epoch: 5 [25600/60000 (43%)]\tLoss: 1.196139\n",
      "Train Epoch: 5 [32000/60000 (53%)]\tLoss: 1.219993\n",
      "Train Epoch: 5 [38400/60000 (64%)]\tLoss: 1.218601\n",
      "Train Epoch: 5 [44800/60000 (75%)]\tLoss: 1.179515\n",
      "Train Epoch: 5 [51200/60000 (85%)]\tLoss: 1.132129\n",
      "Train Epoch: 5 [57600/60000 (96%)]\tLoss: 1.194156\n",
      "\n",
      "Test set: Average loss: 1.1354, Accuracy: 6883/10000 (69%)\n",
      "\n",
      "Train Epoch: 6 [0/60000 (0%)]\tLoss: 1.121757\n",
      "Train Epoch: 6 [6400/60000 (11%)]\tLoss: 1.081280\n",
      "Train Epoch: 6 [12800/60000 (21%)]\tLoss: 1.165390\n",
      "Train Epoch: 6 [19200/60000 (32%)]\tLoss: 1.221358\n",
      "Train Epoch: 6 [25600/60000 (43%)]\tLoss: 1.243935\n",
      "Train Epoch: 6 [32000/60000 (53%)]\tLoss: 1.054086\n",
      "Train Epoch: 6 [38400/60000 (64%)]\tLoss: 1.120823\n",
      "Train Epoch: 6 [44800/60000 (75%)]\tLoss: 1.048095\n",
      "Train Epoch: 6 [51200/60000 (85%)]\tLoss: 1.057756\n",
      "Train Epoch: 6 [57600/60000 (96%)]\tLoss: 0.996772\n",
      "\n",
      "Test set: Average loss: 0.9682, Accuracy: 7397/10000 (74%)\n",
      "\n",
      "Train Epoch: 7 [0/60000 (0%)]\tLoss: 0.971716\n",
      "Train Epoch: 7 [6400/60000 (11%)]\tLoss: 0.806575\n",
      "Train Epoch: 7 [12800/60000 (21%)]\tLoss: 1.018547\n",
      "Train Epoch: 7 [19200/60000 (32%)]\tLoss: 0.950208\n",
      "Train Epoch: 7 [25600/60000 (43%)]\tLoss: 0.929877\n",
      "Train Epoch: 7 [32000/60000 (53%)]\tLoss: 0.857877\n",
      "Train Epoch: 7 [38400/60000 (64%)]\tLoss: 0.904277\n",
      "Train Epoch: 7 [44800/60000 (75%)]\tLoss: 0.883572\n",
      "Train Epoch: 7 [51200/60000 (85%)]\tLoss: 0.778016\n",
      "Train Epoch: 7 [57600/60000 (96%)]\tLoss: 0.773858\n",
      "\n",
      "Test set: Average loss: 0.8432, Accuracy: 7788/10000 (78%)\n",
      "\n",
      "Train Epoch: 8 [0/60000 (0%)]\tLoss: 0.921963\n",
      "Train Epoch: 8 [6400/60000 (11%)]\tLoss: 0.856537\n",
      "Train Epoch: 8 [12800/60000 (21%)]\tLoss: 0.859772\n",
      "Train Epoch: 8 [19200/60000 (32%)]\tLoss: 0.716547\n",
      "Train Epoch: 8 [25600/60000 (43%)]\tLoss: 0.750862\n",
      "Train Epoch: 8 [32000/60000 (53%)]\tLoss: 0.725280\n",
      "Train Epoch: 8 [38400/60000 (64%)]\tLoss: 0.649746\n",
      "Train Epoch: 8 [44800/60000 (75%)]\tLoss: 0.940759\n",
      "Train Epoch: 8 [51200/60000 (85%)]\tLoss: 0.681853\n",
      "Train Epoch: 8 [57600/60000 (96%)]\tLoss: 0.699215\n",
      "\n",
      "Test set: Average loss: 0.7470, Accuracy: 8161/10000 (82%)\n",
      "\n",
      "Train Epoch: 9 [0/60000 (0%)]\tLoss: 0.735351\n",
      "Train Epoch: 9 [6400/60000 (11%)]\tLoss: 0.728183\n",
      "Train Epoch: 9 [12800/60000 (21%)]\tLoss: 0.663288\n",
      "Train Epoch: 9 [19200/60000 (32%)]\tLoss: 0.765400\n",
      "Train Epoch: 9 [25600/60000 (43%)]\tLoss: 0.836757\n",
      "Train Epoch: 9 [32000/60000 (53%)]\tLoss: 0.773312\n",
      "Train Epoch: 9 [38400/60000 (64%)]\tLoss: 0.776115\n",
      "Train Epoch: 9 [44800/60000 (75%)]\tLoss: 0.689468\n",
      "Train Epoch: 9 [51200/60000 (85%)]\tLoss: 0.669639\n",
      "Train Epoch: 9 [57600/60000 (96%)]\tLoss: 0.743431\n",
      "\n",
      "Test set: Average loss: 0.6724, Accuracy: 8368/10000 (84%)\n",
      "\n",
      "Train Epoch: 10 [0/60000 (0%)]\tLoss: 0.781382\n",
      "Train Epoch: 10 [6400/60000 (11%)]\tLoss: 0.718693\n",
      "Train Epoch: 10 [12800/60000 (21%)]\tLoss: 0.637344\n",
      "Train Epoch: 10 [19200/60000 (32%)]\tLoss: 0.700109\n",
      "Train Epoch: 10 [25600/60000 (43%)]\tLoss: 0.763138\n",
      "Train Epoch: 10 [32000/60000 (53%)]\tLoss: 0.779154\n",
      "Train Epoch: 10 [38400/60000 (64%)]\tLoss: 0.641700\n",
      "Train Epoch: 10 [44800/60000 (75%)]\tLoss: 0.617503\n",
      "Train Epoch: 10 [51200/60000 (85%)]\tLoss: 0.582087\n",
      "Train Epoch: 10 [57600/60000 (96%)]\tLoss: 0.571624\n",
      "\n",
      "Test set: Average loss: 0.6134, Accuracy: 8529/10000 (85%)\n",
      "\n"
     ]
    }
   ],
   "source": [
    "for epoch in range(1, epochs + 1):\n",
    "    train(model3, device, train_loader, optimizer3, epoch)\n",
    "    test(model3, device, test_loader)"
   ]
  },
  {
   "cell_type": "code",
   "execution_count": 19,
   "metadata": {},
   "outputs": [
    {
     "data": {
      "text/plain": [
       "1000"
      ]
     },
     "execution_count": 19,
     "metadata": {},
     "output_type": "execute_result"
    }
   ],
   "source": [
    "test_batch_size"
   ]
  },
  {
   "cell_type": "code",
   "execution_count": 20,
   "metadata": {},
   "outputs": [],
   "source": [
    "sample = next(iter(test_loader))[0].view(-1, 784)"
   ]
  },
  {
   "cell_type": "code",
   "execution_count": 21,
   "metadata": {},
   "outputs": [
    {
     "data": {
      "text/plain": [
       "torch.Size([1000, 784])"
      ]
     },
     "execution_count": 21,
     "metadata": {},
     "output_type": "execute_result"
    }
   ],
   "source": [
    "sample.shape"
   ]
  },
  {
   "cell_type": "code",
   "execution_count": 22,
   "metadata": {},
   "outputs": [],
   "source": [
    "r1, r2 = model3.extract(sample)"
   ]
  },
  {
   "cell_type": "code",
   "execution_count": 23,
   "metadata": {},
   "outputs": [
    {
     "name": "stdout",
     "output_type": "stream",
     "text": [
      "torch.Size([1000, 50])\n"
     ]
    }
   ],
   "source": [
    "print(r1.shape)"
   ]
  },
  {
   "cell_type": "code",
   "execution_count": 24,
   "metadata": {},
   "outputs": [],
   "source": [
    "r1 = r1.detach().numpy()\n",
    "r2 = r2.detach().numpy()"
   ]
  },
  {
   "cell_type": "code",
   "execution_count": 25,
   "metadata": {},
   "outputs": [],
   "source": [
    "#h1 = h1.detach().numpy()\n",
    "#h2 = h2.detach().numpy()"
   ]
  },
  {
   "cell_type": "code",
   "execution_count": 26,
   "metadata": {},
   "outputs": [],
   "source": [
    "e1 = TSNE(n_components=2).fit_transform(r1)\n",
    "e2 = TSNE(n_components=2).fit_transform(r2)"
   ]
  },
  {
   "cell_type": "code",
   "execution_count": 27,
   "metadata": {},
   "outputs": [
    {
     "data": {
      "text/plain": [
       "(1000, 2)"
      ]
     },
     "execution_count": 27,
     "metadata": {},
     "output_type": "execute_result"
    }
   ],
   "source": [
    "e1.shape"
   ]
  },
  {
   "cell_type": "code",
   "execution_count": 28,
   "metadata": {},
   "outputs": [
    {
     "data": {
      "text/plain": [
       "(1000, 50)"
      ]
     },
     "execution_count": 28,
     "metadata": {},
     "output_type": "execute_result"
    }
   ],
   "source": [
    "r1.shape"
   ]
  },
  {
   "cell_type": "code",
   "execution_count": 29,
   "metadata": {},
   "outputs": [
    {
     "data": {
      "text/plain": [
       "[<matplotlib.lines.Line2D at 0x7f322a2ed748>]"
      ]
     },
     "execution_count": 29,
     "metadata": {},
     "output_type": "execute_result"
    },
    {
     "data": {
      "image/png": "[encoded data removed]",
      "text/plain": [
       "<Figure size 432x288 with 1 Axes>"
      ]
     },
     "metadata": {},
     "output_type": "display_data"
    }
   ],
   "source": [
    "plt.plot(e1[:,0],e1[:,1], '.')"
   ]
  },
  {
   "cell_type": "code",
   "execution_count": 30,
   "metadata": {},
   "outputs": [
    {
     "data": {
      "text/plain": [
       "[<matplotlib.lines.Line2D at 0x7f322a24e4a8>]"
      ]
     },
     "execution_count": 30,
     "metadata": {},
     "output_type": "execute_result"
    },
    {
     "data": {
      "image/png": "[encoded data removed]",
      "text/plain": [
       "<Figure size 432x288 with 1 Axes>"
      ]
     },
     "metadata": {},
     "output_type": "display_data"
    }
   ],
   "source": [
    "plt.plot(e2[:,0],e2[:,1], '.')"
   ]
  },
  {
   "cell_type": "code",
   "execution_count": 31,
   "metadata": {},
   "outputs": [],
   "source": [
    "# Density peak clustering"
   ]
  },
  {
   "cell_type": "code",
   "execution_count": 32,
   "metadata": {},
   "outputs": [
    {
     "ename": "SyntaxError",
     "evalue": "invalid syntax (<ipython-input-32-e31ff8adba4a>, line 1)",
     "output_type": "error",
     "traceback": [
      "\u001b[0;36m  File \u001b[0;32m\"<ipython-input-32-e31ff8adba4a>\"\u001b[0;36m, line \u001b[0;32m1\u001b[0m\n\u001b[0;31m    x -> h1 -> h2 -....->\u001b[0m\n\u001b[0m       ^\u001b[0m\n\u001b[0;31mSyntaxError\u001b[0m\u001b[0;31m:\u001b[0m invalid syntax\n"
     ]
    }
   ],
   "source": [
    "x -> h1 -> h2 -....-> "
   ]
  },
  {
   "cell_type": "code",
   "execution_count": null,
   "metadata": {},
   "outputs": [],
   "source": [
    "out = model3(sample)"
   ]
  },
  {
   "cell_type": "code",
   "execution_count": null,
   "metadata": {},
   "outputs": [],
   "source": [
    "out = out.detach().numpy()"
   ]
  },
  {
   "cell_type": "code",
   "execution_count": null,
   "metadata": {},
   "outputs": [],
   "source": [
    "e3 = TSNE(n_components=2).fit_transform(out)"
   ]
  },
  {
   "cell_type": "code",
   "execution_count": null,
   "metadata": {},
   "outputs": [],
   "source": [
    "plt.plot(e3[:,0],e3[:,1], '.')"
   ]
  },
  {
   "cell_type": "markdown",
   "metadata": {},
   "source": [
    "$\\theta$ = $\\theta$ - $\\alpha$ ( grad L + $\\lambda$ $\\theta$) "
   ]
  },
  {
   "cell_type": "code",
   "execution_count": null,
   "metadata": {},
   "outputs": [],
   "source": [
    "optim.SGD??"
   ]
  },
  {
   "cell_type": "code",
   "execution_count": null,
   "metadata": {},
   "outputs": [],
   "source": []
  }
 ],
 "metadata": {
  "kernelspec": {
   "display_name": "Python 3",
   "language": "python",
   "name": "python3"
  },
  "language_info": {
   "codemirror_mode": {
    "name": "ipython",
    "version": 3
   },
   "file_extension": ".py",
   "mimetype": "text/x-python",
   "name": "python",
   "nbconvert_exporter": "python",
   "pygments_lexer": "ipython3",
   "version": "3.6.8"
  }
 },
 "nbformat": 4,
 "nbformat_minor": 4
}
