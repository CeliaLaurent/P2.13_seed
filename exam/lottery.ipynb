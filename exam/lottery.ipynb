{
 "cells": [
  {
   "cell_type": "markdown",
   "metadata": {},
   "source": [
    "# MHPC Deep Learning Course Assignment"
   ]
  },
  {
   "cell_type": "markdown",
   "metadata": {},
   "source": [
    "# The Lottery Ticket Hypothesis\n",
    "\n",
    "The aim of this exercise is to explore a somewhat misterious property of deep neural networks \n",
    "(DNN), i.e. the existence of very small subnetworks S of a given network N that are *trainable* \n",
    "and can reach the same performance of N (or even higher). \n",
    "\n",
    "This intriguing observation has been elevated to the rank of an **hypothesis** in the seminal work by Frankle & Carbin [3]\n",
    "\n",
    "https://arxiv.org/abs/1803.03635\n",
    "\n",
    "*Any large network that trains successfully contains a subnetwork that is initialized such that - when trained in isolation - it can match the accuracy of the original network in at most the same number of training iterations*\n",
    "\n",
    "The authors metaphorically called this subnetwork as a *winning ticket*.\n",
    "\n",
    "In some cases these subnetworks are really small. We can find subnetworks with the  $\\approx 1 \\%$ or less of the original connections.\n",
    "\n",
    "Imagine the possible applications of such tiny DNNs. Being small means less memory and less computation required: this can be crucial in developing embedded systems that, given a target performance to be reached, can afford it with lower resources, including energy consumption.\n",
    "\n",
    "From a theoretical viewpoint there is also another interesting angle. If these subnetworks are so small then, shall we think differently about the problem of *overparametrization*?\n",
    "\n",
    "Let us state it more clearly. A very diffuse concern about DNNs is the fact that the number of parameters is often vastly larger then the number of data points. For example we will work in this notebook with a network with $\\approx 400,000$ *trainable* parameters on the MNIST dataset, that has 60,000 training samples. This means that on average we have 7 parameters for each data point.\n",
    "If we compare this situation with polynomial regression of a dataset of 10 points, for example, a polynomial of degree 10 (that has 11 parameters) overfits the data perfectly. But in DNNs overfitting - while still there - is not as severe as we could expect.\n",
    "\n",
    "But now, if we can reduce by two orders of magnitude the number of parameters in DNNs, does this concern still hold?\n",
    "We don't know the answer, and that's *one* of the reasons why we are here.\n",
    "\n",
    "We are PyTorch beginners, but what we saw in the course is enough to approach this *research* problem in DNNs, from an empirical viewpoint. Hopefully, this will give you stimuli to explore more in depth these problems, adding your perspective to it.\n",
    "\n",
    "Another point of this exercise is to make experience of *new strategies in research and knowledge dissemination*. \n",
    "Short communications - going straight to the point - are very effective indeed as a *first* exposition to a new subject. "
   ]
  },
  {
   "cell_type": "markdown",
   "metadata": {},
   "source": [
    "### Evaluation\n",
    "\n",
    "In order to pass the exam you should work on some mandatory assignments.\n",
    "These are:\n",
    "\n",
    "- reading assignments\n",
    "- brief answers to the questions in the notebook\n",
    "- completion of the PyTorch code in this notebook\n",
    "\n",
    "If you want to receive full grades\n",
    "\n",
    "- do all the optional exercises in PyTorch (there are two)\n",
    "\n",
    "The optional assignments will be marked with 'OPTIONAL' in the following."
   ]
  },
  {
   "cell_type": "markdown",
   "metadata": {},
   "source": [
    "# Reading assignment"
   ]
  },
  {
   "cell_type": "markdown",
   "metadata": {},
   "source": [
    "The first part of this exercise is a mandatory *reading assignment*.\n",
    "\n",
    "You should read\n",
    "\n",
    "\n",
    "- the original paper\n",
    "https://arxiv.org/abs/1905.01067\n",
    "\n",
    "- the research account from the Uber Engineering AI team's blog:\n",
    "https://eng.uber.com/deconstructing-lottery-tickets/\n",
    "\n",
    "\n",
    "We suggest if you want to go deeper in this, to read also the original reference\n",
    "\n",
    "https://arxiv.org/abs/1803.03635\n",
    "\n",
    "After the readings, we will try to reproduce one of their numerous experiments. Take your time for this and enjoy your reading!\n",
    "\n",
    "\n",
    "![](./figs_nb/manuscript.jpg)"
   ]
  },
  {
   "cell_type": "markdown",
   "metadata": {},
   "source": [
    "# After the readings"
   ]
  },
  {
   "cell_type": "markdown",
   "metadata": {},
   "source": [
    "Once we are confident with the ideas in the original paper\n",
    "\n",
    "https://arxiv.org/abs/1905.01067\n",
    "\n",
    "we will take it as a reference, and intertwin some excerpts from the original text and some of its figures \n",
    "with code and exercises.\n",
    "\n",
    "You may parallel now the reading of the notebook with the paper."
   ]
  },
  {
   "cell_type": "markdown",
   "metadata": {},
   "source": [
    "### Introduction \n",
    "\n",
    "\n",
    "[...] A recent work by Frankle & Carbin [3] was thus surprising to many researchers when it presented\n",
    "a simple algorithm for finding sparse subnetworks within larger networks that are trainable[...] \n",
    "\n",
    "Here the key word is *trainable*: it is possible to find sparse subnetworks that perform well but they are difficult \n",
    "to train directly from scratch.\n",
    "\n",
    "\n",
    "You may want (OPTIONAL) to check the research described in the original paper\n",
    "\n",
    "https://arxiv.org/abs/1803.03635\n",
    "\n",
    "\n",
    "and a video presentation (OPTIONAL) of the original research at ICLR conference 2019\n",
    "\n",
    "https://www.youtube.com/watch?v=s7DqRZVvRiQ&t=3s\n",
    "\n",
    "\n",
    "Briefly, their approach for finding these sparse, performant networks is as follows: \n",
    "\n",
    "- train a network\n",
    "- set all weights smaller than some threshold (in absolute value) to zero\n",
    "- prune them\n",
    "- rewind the rest of the weights to their initial configuration\n",
    "- retrain the network from this starting configuration but with the zero weights frozen (not trained)\n",
    "\n",
    "\n",
    "Using this approach, they obtained two intriguing results\n",
    "\n",
    "- the pruned networks performed well\n",
    "- the network trains well only if it is rewound to its initial state"
   ]
  },
  {
   "cell_type": "markdown",
   "metadata": {},
   "source": [
    "**The Lottery Ticket Algorithm**\n",
    "\n",
    "[...]We begin by briefly describing the lottery ticket algorithm (we simplify things a bit with respect\n",
    "to the paper):\n",
    "\n",
    "- Initialize a mask m to all ones (in the PyTorch code this will be a list of tensors of the same shapes of the ones given by model.parameters()). \n",
    "\n",
    "- Randomly initialize the parameters w of a network\n",
    "$f(x;w \\star m)$ ($\\star$ stands for elementwise multiplication), in this case of course the multiplication by the mask does not have any effect.\n",
    "\n",
    "- Train the parameters w of the network $f(x;w \\star m)$ to completion. Denote the initial weights\n",
    "before training wi and the final weights after training wf\n",
    "\n",
    "- Mask Criterion. Use the mask criterion $M(wi; wf)$ to produce a masking score for each\n",
    "currently unmasked weight. \n",
    "\n",
    "Method to create the mask: \n",
    "\n",
    "\n",
    "<span style=\"color:red\">\n",
    "Rank the weights in each layer by their scores, set the mask\n",
    "value for the top $p\\%$ to 1, the bottom $(100 - p)\\%$ to 0. \n",
    "The mask selected weights with large final value corresponding to $M(wi;wf) = |wf|$.\n",
    "</span>   \n",
    "\n",
    "\n",
    "This text is colored in red because this is what is done in the paper, but we will do it *differently*, as we will explain below!\n",
    "\n",
    "3. Mask-1 Action. Take some action with the weights with mask value 1. In [3] these weights\n",
    "were reset to their initial values and marked for training in the next round.\n",
    "\n",
    "4. Mask-0 Action. Take some action with the weights with mask value 0. In [3] these weights\n",
    "were pruned: set to 0 and frozen during any subsequent training [...]\n",
    "\n",
    "\n",
    "We do not consider iterative pruning (as in the original paper by Frankle and Carbin too): we do it just once.\n",
    "\n",
    "Other masking criteria are possible:\n",
    "\n",
    "\n",
    "![](./figs_nb/mask_criteria.png)\n",
    "\n",
    "we will stick for the moment with the original one, which is the large final (LF) mask.\n",
    "\n",
    "\n",
    "We will do experiments on a small convolutional network trained on the MNIST dataset."
   ]
  },
  {
   "cell_type": "markdown",
   "metadata": {},
   "source": [
    "### Imports\n",
    "\n",
    "Here we start with the necessary imports for the PyTorch version."
   ]
  },
  {
   "cell_type": "code",
   "execution_count": 1,
   "metadata": {},
   "outputs": [],
   "source": [
    "from __future__ import print_function\n",
    "import argparse\n",
    "import torch\n",
    "import torch.nn as nn\n",
    "import torch.nn.functional as F\n",
    "import torch.optim as optim\n",
    "from torchvision import datasets, transforms\n",
    "from tqdm import tqdm\n",
    "from matplotlib import pyplot as plt\n",
    "import numpy as np\n",
    "from torchsummary import summary\n",
    "import os\n",
    "from os.path import join\n",
    "import math"
   ]
  },
  {
   "cell_type": "markdown",
   "metadata": {},
   "source": [
    "### Exercise 1: the Network\n",
    "\n",
    "Define the network with a class Net as we already did (check conv.py on day2 for example).\n",
    "\n",
    "To check your architecture is correct you should see something like this when printing the model:\n",
    "    \n",
    "    model = Net().to(device)\n",
    "    print(model)\n",
    "\n",
    "    Net(\n",
    "    (conv1): Conv2d(1, 20, kernel_size=(5, 5), stride=(1, 1))\n",
    "    (conv2): Conv2d(20, 50, kernel_size=(5, 5), stride=(1, 1))\n",
    "    (fc1): Linear(in_features=800, out_features=500, bias=True)\n",
    "    (fc2): Linear(in_features=500, out_features=10, bias=True)\n",
    "    )\n",
    "\n",
    "\n",
    "    and summary() should give something like this \n",
    "\n",
    "    summary(model, (1,28,28))\n",
    "    \n",
    "    ----------------------------------------------------------------\n",
    "        Layer (type)               Output Shape         Param #\n",
    "    ================================================================\n",
    "                Conv2d-1           [-1, 20, 24, 24]             520\n",
    "                Conv2d-2             [-1, 50, 8, 8]          25,050\n",
    "                Linear-3                  [-1, 500]         400,500\n",
    "                Linear-4                   [-1, 10]           5,010\n",
    "    ================================================================\n",
    "    Total params: 431,080\n",
    "    Trainable params: 431,080\n",
    "    Non-trainable params: 0\n",
    "    ----------------------------------------------------------------\n",
    "    Input size (MB): 0.00\n",
    "    Forward/backward pass size (MB): 0.12\n",
    "    Params size (MB): 1.64\n",
    "    Estimated Total Size (MB): 1.76\n",
    "    ----------------------------------------------------------------"
   ]
  },
  {
   "cell_type": "code",
   "execution_count": 2,
   "metadata": {},
   "outputs": [],
   "source": [
    "# copied from day2/3_extraction_cnn.ipynb\n",
    "class Net(nn.Module):\n",
    "    #define the building blocks that i need:\n",
    "    def __init__(self):\n",
    "        super(Net, self).__init__()\n",
    "        #convolutional layers for 1 channel, 20 filters of size 5x5:\n",
    "        self.conv1 = nn.Conv2d(1, 20, 5, 1) # keep last parameter =1\n",
    "        \n",
    "        #another convolutional layer with an input of 20 channels \n",
    "        #(20 versions of the image given by the 20 filter)\n",
    "        # this convolutiona layer has 50 filters of size 5x5:\n",
    "        self.conv2 = nn.Conv2d(20, 50, 5, 1)\n",
    "        \n",
    "        # 500 is the width of the last hidden layer\n",
    "        self.fc1 = nn.Linear(4*4*50, 500)\n",
    "        # transformation from the size of the last\n",
    "        # hidden layer to the output\n",
    "        self.fc2 = nn.Linear(500, 10)\n",
    "\n",
    "    # describe the flow of information inside the network:\n",
    "    def forward(self, x):\n",
    "        # do a convulution and apply the relu :\n",
    "        x = F.relu(self.conv1(x))\n",
    "        # take the max value of the maps  reducing the \n",
    "        # representation by a factor of 2x2=4 :\n",
    "        x = F.max_pool2d(x, 2, 2)\n",
    "        # again, do a convulution and apply the relu :\n",
    "        x = F.relu(self.conv2(x))\n",
    "        # further reducing the dimensionality of the reppresentation :\n",
    "        x = F.max_pool2d(x, 2, 2)\n",
    "        # for each datapoint a want one vector of length 4*4*50 :\n",
    "        x = x.view(-1, 4*4*50)\n",
    "        # flatten it into a single vector : \n",
    "        x = F.relu(self.fc1(x))\n",
    "        # perform the last linear transformation applying the last\n",
    "        # non-linearity :\n",
    "        x = self.fc2(x)\n",
    "        return F.log_softmax(x, dim=1)"
   ]
  },
  {
   "cell_type": "markdown",
   "metadata": {},
   "source": [
    "##### Check your Net"
   ]
  },
  {
   "cell_type": "code",
   "execution_count": 3,
   "metadata": {},
   "outputs": [
    {
     "name": "stdout",
     "output_type": "stream",
     "text": [
      "Net(\n",
      "  (conv1): Conv2d(1, 20, kernel_size=(5, 5), stride=(1, 1))\n",
      "  (conv2): Conv2d(20, 50, kernel_size=(5, 5), stride=(1, 1))\n",
      "  (fc1): Linear(in_features=800, out_features=500, bias=True)\n",
      "  (fc2): Linear(in_features=500, out_features=10, bias=True)\n",
      ")\n",
      "----------------------------------------------------------------\n",
      "        Layer (type)               Output Shape         Param #\n",
      "================================================================\n",
      "            Conv2d-1           [-1, 20, 24, 24]             520\n",
      "            Conv2d-2             [-1, 50, 8, 8]          25,050\n",
      "            Linear-3                  [-1, 500]         400,500\n",
      "            Linear-4                   [-1, 10]           5,010\n",
      "================================================================\n",
      "Total params: 431,080\n",
      "Trainable params: 431,080\n",
      "Non-trainable params: 0\n",
      "----------------------------------------------------------------\n",
      "Input size (MB): 0.00\n",
      "Forward/backward pass size (MB): 0.12\n",
      "Params size (MB): 1.64\n",
      "Estimated Total Size (MB): 1.76\n",
      "----------------------------------------------------------------\n",
      "None\n",
      "\n",
      "Using cpu device\n"
     ]
    }
   ],
   "source": [
    "use_cuda = torch.cuda.is_available()\n",
    "\n",
    "device = torch.device(\"cuda\" if use_cuda else \"cpu\")\n",
    "\n",
    "model = Net()\n",
    "model = Net().to(device)\n",
    "print(model)\n",
    "print(summary(model, (1,28,28)))\n",
    "print('\\nUsing',device,'device')\n"
   ]
  },
  {
   "cell_type": "markdown",
   "metadata": {},
   "source": [
    "### Exercise 2: Training and test functions\n",
    "\n",
    "Before implementing the LT algorithm there are two changes we have to make to the *standard* \n",
    "training functions (as used for example in conv.py of day2)\n",
    "\n",
    "- add an optional argument *mask*\n",
    "- write the code that, if a mask is passed, modifies the update in order to freeze the parameters whose mask value is zero\n",
    "\n",
    "Notice that in PyTorch we can set the flag require_grad to *tensors*, but not to their individual elements. Let us recall this once.\n",
    "\n",
    "For tensors we could proceed as follows (we did something like this in the transfer learning, when we froze all the network but the last hidden layer):"
   ]
  },
  {
   "cell_type": "code",
   "execution_count": 4,
   "metadata": {},
   "outputs": [
    {
     "name": "stdout",
     "output_type": "stream",
     "text": [
      "torch.Size([20, 1, 5, 5]) True\n",
      "torch.Size([20]) True\n",
      "torch.Size([50, 20, 5, 5]) True\n",
      "torch.Size([50]) True\n",
      "torch.Size([500, 800]) True\n",
      "torch.Size([500]) True\n",
      "torch.Size([10, 500]) True\n",
      "torch.Size([10]) True\n"
     ]
    }
   ],
   "source": [
    "# show the requires_grad flags\n",
    "for p in model.parameters():\n",
    "    print(p.shape, p.requires_grad)"
   ]
  },
  {
   "cell_type": "code",
   "execution_count": 5,
   "metadata": {},
   "outputs": [],
   "source": [
    "# freeze first hidden layer as an example\n",
    "list(model.parameters())[0].requires_grad=False"
   ]
  },
  {
   "cell_type": "code",
   "execution_count": 6,
   "metadata": {},
   "outputs": [
    {
     "name": "stdout",
     "output_type": "stream",
     "text": [
      "False\n",
      "True\n",
      "True\n",
      "True\n",
      "True\n",
      "True\n",
      "True\n",
      "True\n"
     ]
    }
   ],
   "source": [
    "# check that the flag has changed\n",
    "for p in model.parameters():\n",
    "    print(p.requires_grad)"
   ]
  },
  {
   "cell_type": "markdown",
   "metadata": {},
   "source": [
    "Let us re-set to True the flag we changed."
   ]
  },
  {
   "cell_type": "code",
   "execution_count": 7,
   "metadata": {},
   "outputs": [],
   "source": [
    "list(model.parameters())[0].requires_grad=True"
   ]
  },
  {
   "cell_type": "markdown",
   "metadata": {},
   "source": [
    "But in order to *freeze* individual elements of our parameter tensors we have to proceed differently:\n",
    "\n",
    "- compute the gradient with respect to all the parameters \n",
    "- set to zero the gradients of the parameters whose mask value is zero\n",
    "- do the normal update\n",
    "\n",
    "\n",
    "Complete the code in the following cell:"
   ]
  },
  {
   "cell_type": "code",
   "execution_count": 8,
   "metadata": {},
   "outputs": [],
   "source": [
    "log_interval=187\n",
    "def train(model, device, train_loader, optimizer, epoch, mask=None):\n",
    "    model.train()\n",
    "\n",
    "    for batch_idx, (data, target) in enumerate(train_loader):\n",
    "        data, target = data.to(device), target.to(device)\n",
    "        # Zero the gradients before computing the loss fction\n",
    "        optimizer.zero_grad()\n",
    "        output = model(data)\n",
    "        #Define a loss function\n",
    "        loss = F.nll_loss(output, target)\n",
    "        \n",
    "        \n",
    "        #----------- compute the gradients -----------------------------------------\n",
    "        # compute the gradient with respect to all the parameters\n",
    "        loss.backward()\n",
    "        #----------- zero the gradients ---------------------------------------------\n",
    "        if(mask):\n",
    "            # set to zero the gradients of the freezed parameters if a mask is passed as a parameter\n",
    "            for m,p in zip(mask,model.parameters()):\n",
    "                #for m,p in zip(masklist,paramlist):\n",
    "                p.grad.mul_(m)\n",
    "                \n",
    "        #------------ parameters update ---------------------------------------\n",
    "        optimizer.step()\n",
    "\n",
    "        #if batch_idx % log_interval == 0:\n",
    "        #    print('Train Epoch: {} [{}/{} ({:.0f}%)]\\tLoss: {:.6f}'.format(\n",
    "        #        epoch, batch_idx * len(data), len(train_loader.dataset),\n",
    "        #        100. * batch_idx / len(train_loader), loss.item()))\n",
    "        #----------------------------------------------------------------------------------------------"
   ]
  },
  {
   "cell_type": "markdown",
   "metadata": {},
   "source": [
    "The test function is left unchanged"
   ]
  },
  {
   "cell_type": "code",
   "execution_count": 9,
   "metadata": {},
   "outputs": [],
   "source": [
    "def test(model, device, test_loader,verbose=False):\n",
    "    model.eval()\n",
    "    loss = 0\n",
    "    correct = 0\n",
    "    with torch.no_grad():\n",
    "        for data, target in test_loader:\n",
    "            data, target = data.to(device), target.to(device)\n",
    "            output = model(data)\n",
    "            loss += F.nll_loss(output, target, reduction='sum').item() # sum up batch loss\n",
    "            pred = output.argmax(dim=1, keepdim=True) # get the index of the max log-probability\n",
    "            correct += pred.eq(target.view_as(pred)).sum().item()\n",
    "    loss /= len(test_loader.dataset)\n",
    "    acc = 100. * correct / len(test_loader.dataset)\n",
    "    \n",
    "    if verbose:\n",
    "        print('\\nTest set: Average loss: {:.4f}, Accuracy: {}/{} ({:.2f}%)\\n'.format(\n",
    "            loss, correct, len(test_loader.dataset), acc))\n",
    "    return acc"
   ]
  },
  {
   "cell_type": "markdown",
   "metadata": {},
   "source": [
    "Now we are ready to do the experiment with the LF mask.\n",
    "Before doing that we have to \n",
    "\n",
    "- set our hyperparameters\n",
    "- deal with the data\n",
    "\n",
    "Just evaluate the following two cells."
   ]
  },
  {
   "cell_type": "markdown",
   "metadata": {},
   "source": [
    "# Hyperparameters settings"
   ]
  },
  {
   "cell_type": "code",
   "execution_count": 10,
   "metadata": {},
   "outputs": [],
   "source": [
    "batch_size=64\n",
    "\n",
    "#number of epochs \n",
    "epochs=5\n",
    "\n",
    "#learning rate\n",
    "lr=0.01\n",
    "\n",
    "# keep the momentum to 0, otherwise also freezed parameters \n",
    "# will move for the momentum contribution to parameters evolution\n",
    "momentum=0.0\n",
    "\n",
    "seed=1\n",
    "torch.manual_seed(seed)\n",
    "save_model=1"
   ]
  },
  {
   "cell_type": "markdown",
   "metadata": {},
   "source": [
    "# Data"
   ]
  },
  {
   "cell_type": "code",
   "execution_count": 11,
   "metadata": {},
   "outputs": [],
   "source": [
    "kwargs = {'num_workers': 1, 'pin_memory': True} if use_cuda else {}\n",
    "train_loader = torch.utils.data.DataLoader(\n",
    "    datasets.MNIST('./data', train=True, download=True,\n",
    "                   transform=transforms.Compose([\n",
    "                       transforms.ToTensor(),\n",
    "                       transforms.Normalize((0.1307,), (0.3081,))\n",
    "                   ])),\n",
    "    batch_size=batch_size, shuffle=True, **kwargs)\n",
    "test_loader = torch.utils.data.DataLoader(\n",
    "    datasets.MNIST('./data', train=False, transform=transforms.Compose([\n",
    "                       transforms.ToTensor(),\n",
    "                       transforms.Normalize((0.1307,), (0.3081,))\n",
    "                   ])),\n",
    "    batch_size=batch_size, shuffle=True, **kwargs)"
   ]
  },
  {
   "cell_type": "markdown",
   "metadata": {},
   "source": [
    "# Exercise 3: First Training\n",
    "\n",
    "During the first training you will\n",
    "\n",
    "- initialize the network and send to device\n",
    "- store the initial weights (wi) of the network\n",
    "- init the optimizer\n",
    "- train the network without any mask (or passing a mask of ones if you prefer)\n",
    "- store the final weights (wf)\n",
    "\n",
    "The final weights will be used later to compute the LF mask.\n",
    "\n",
    "During the training check that your loss is getting smaller and your accuracy on test set higher."
   ]
  },
  {
   "cell_type": "code",
   "execution_count": 12,
   "metadata": {},
   "outputs": [],
   "source": [
    "# initialize the network and send to device:\n",
    "model = Net().to(device)\n",
    "if not os.path.isdir('./models'):\n",
    "    os.mkdir('./models')\n",
    "# store the initial weights (wi) of the network :\n",
    "torch.save(model.state_dict(), 'models/initial.pt')"
   ]
  },
  {
   "cell_type": "code",
   "execution_count": 13,
   "metadata": {},
   "outputs": [],
   "source": [
    "# init the optimizer:\n",
    "optimizer = optim.SGD(model.parameters(), lr=lr, momentum=momentum)"
   ]
  },
  {
   "cell_type": "code",
   "execution_count": 14,
   "metadata": {},
   "outputs": [
    {
     "name": "stderr",
     "output_type": "stream",
     "text": [
      "\r",
      "  0%|          | 0/5 [00:00<?, ?it/s]"
     ]
    },
    {
     "name": "stdout",
     "output_type": "stream",
     "text": [
      "\n",
      "Test set: Average loss: 2.3022, Accuracy: 933/10000 (9.33%)\n",
      "\n"
     ]
    },
    {
     "name": "stderr",
     "output_type": "stream",
     "text": [
      "\r",
      " 20%|██        | 1/5 [00:22<01:28, 22.04s/it]"
     ]
    },
    {
     "name": "stdout",
     "output_type": "stream",
     "text": [
      "\n",
      "Test set: Average loss: 0.1769, Accuracy: 9458/10000 (94.58%)\n",
      "\n"
     ]
    },
    {
     "name": "stderr",
     "output_type": "stream",
     "text": [
      "\r",
      " 40%|████      | 2/5 [00:45<01:07, 22.52s/it]"
     ]
    },
    {
     "name": "stdout",
     "output_type": "stream",
     "text": [
      "\n",
      "Test set: Average loss: 0.1036, Accuracy: 9697/10000 (96.97%)\n",
      "\n"
     ]
    },
    {
     "name": "stderr",
     "output_type": "stream",
     "text": [
      "\r",
      " 60%|██████    | 3/5 [01:12<00:47, 23.81s/it]"
     ]
    },
    {
     "name": "stdout",
     "output_type": "stream",
     "text": [
      "\n",
      "Test set: Average loss: 0.0673, Accuracy: 9803/10000 (98.03%)\n",
      "\n"
     ]
    },
    {
     "name": "stderr",
     "output_type": "stream",
     "text": [
      "\r",
      " 80%|████████  | 4/5 [01:37<00:24, 24.25s/it]"
     ]
    },
    {
     "name": "stdout",
     "output_type": "stream",
     "text": [
      "\n",
      "Test set: Average loss: 0.0608, Accuracy: 9809/10000 (98.09%)\n",
      "\n"
     ]
    },
    {
     "name": "stderr",
     "output_type": "stream",
     "text": [
      "100%|██████████| 5/5 [02:01<00:00, 24.35s/it]"
     ]
    },
    {
     "name": "stdout",
     "output_type": "stream",
     "text": [
      "\n",
      "Test set: Average loss: 0.0628, Accuracy: 9794/10000 (97.94%)\n",
      "\n",
      "Saving model.\n"
     ]
    },
    {
     "name": "stderr",
     "output_type": "stream",
     "text": [
      "\n"
     ]
    }
   ],
   "source": [
    "test(model, device, test_loader,verbose=True)\n",
    "for epoch in tqdm(range(1, epochs + 1)):\n",
    "    train(model,device,train_loader,optimizer,epoch,mask=None)\n",
    "    test(model, device, test_loader,verbose=True)\n",
    "    \n",
    "if (save_model):\n",
    "    print('Saving model.')\n",
    "    # store the new weights (wi) of the network :\n",
    "    torch.save(model.state_dict(), 'models/trained_without_mask.pt')"
   ]
  },
  {
   "cell_type": "markdown",
   "metadata": {},
   "source": [
    "### Masks\n",
    "\n",
    "We define different masks.\n",
    "\n",
    "- the identity mask, which is useful for debugging: it will left the training unaltered\n",
    "- the random mask, that we will use to make comparisons\n",
    "- the LF (large final) mask\n",
    "\n",
    "The first two are given, the implementation of the LF mask is an exercise."
   ]
  },
  {
   "cell_type": "code",
   "execution_count": 15,
   "metadata": {},
   "outputs": [],
   "source": [
    "def identity_mask(model):\n",
    "    '''\n",
    "    Returns the identity mask for all parameter tensors in a list\n",
    "    '''\n",
    "    mask = []\n",
    "    for p in model.parameters():\n",
    "        mask.append(torch.ones_like(p))\n",
    "    return mask\n",
    "\n",
    "def random_mask(model, level=0.0):\n",
    "    '''\n",
    "    Construct random mask with a given level of pruning (probability to assign a zero value)\n",
    "    '''\n",
    "    # construct random mask\n",
    "    mask = []\n",
    "    frac = 0\n",
    "    tot = 0\n",
    "    for i,p in enumerate(model.parameters()):\n",
    "        mask.append( (torch.rand_like(p) > level).float().to(device) )\n",
    "        frac += torch.sum( mask[i] ).item() \n",
    "        tot += mask[i].numel()\n",
    "    frac = frac/tot\n",
    "    return mask, frac"
   ]
  },
  {
   "cell_type": "markdown",
   "metadata": {},
   "source": [
    "### Exercise 4: the LF Mask\n",
    "\n",
    "The original LF mask (as described in the introduction in the red text) is left as an **OPTIONAL Exercise 1 (see at the end of this notebook)**.\n",
    "You will implement here a *variant* of the original LF (large final) mask. \n",
    "\n",
    "The general idea is just to mark with 1 the weights that at the end of the training are \n",
    "larger then a certain threshold. This is explained in the follwing figure\n",
    "\n",
    "![](./figs_nb/LF_mask.png)\n",
    "\n",
    "Concretely you will do it as follows. Let us denote with\n",
    "\n",
    "- p a vector that contains all the weights\n",
    "- |p| its elementwise absolute value\n",
    "- m the average of |p|\n",
    "- s the standard deviation of p (notice that now we are considering the original parameters, not their absolute values)\n",
    "- $\\alpha$ is a parameter in the range $[0,2]$\n",
    "\n",
    "Then a parameter $p_i$ will be considered relevant (mask = 1 for this parameter) if its final value is such that:\n",
    "\n",
    "$$\n",
    "|p_i| > m + \\alpha \\times s\n",
    "$$\n",
    "\n",
    "Your function (LF_mask) will have the following signature:\n",
    "    \n",
    "    input : model,alpha\n",
    "        \n",
    "    output : mask (a list of tensors with the same shaper of list(model.parameters()) ) in which to \n",
    "             each parameter is associate a value 1 if relevant, 0 if irrelevant\n",
    "             \n",
    "             frac (a the fraction of parameters whose mask is equal to 1)\n",
    "             \n",
    "             The latter is useful to keep track of the level of parameters'pruning which is \n",
    "             implicitly set by alpha\n",
    "             \n",
    "Then we will test it and see how many parameters we pruned with a certain $\\alpha$.\n",
    "             \n",
    "Hint: Basically you will have to concatenate all the parameters in a long numpy array first, in order to compute the statistics you need. Maybe you will find useful the functions torch.where, torch.ones_like, torch.zeros_like. Furthermore, before acting on torch tensors you will need to detach them from the computational graph (see detach() method), send them to the cpu device, and convert them into numpy arrays."
   ]
  },
  {
   "cell_type": "code",
   "execution_count": 16,
   "metadata": {},
   "outputs": [],
   "source": [
    "def LF_mask(model,alpha):\n",
    "    '''\n",
    "    Construct large final (LF) mask. The threshold for \n",
    "    decision is determined globally.\n",
    "    '''\n",
    "    frac = 0\n",
    "    tot = 0\n",
    "    \n",
    "    # concatenate all parameters into a numpy array\n",
    "    flat_params=[]\n",
    "    for p in model.parameters():\n",
    "        flat_params=np.hstack((flat_params,p.detach().numpy().flatten()))\n",
    "           \n",
    "    # compute mean of the absolute values and standard deviation         \n",
    "    m=np.abs(flat_params).mean()\n",
    "    s=flat_params.std()\n",
    "    print('m=',m,'s=',s)\n",
    "        \n",
    "    # compute the mask : mask=1 if (|p_i| > m + \\alpha \\times s)\n",
    "    mask = []\n",
    "    for i, p in enumerate( model.parameters() ):\n",
    "        params=p.detach().numpy()\n",
    "        #mm = torch.zeros(p.size(), device=device, requires_grad=False)\n",
    "\n",
    "        condition=np.abs(params)>m+alpha*s\n",
    "        numpy_mask=np.zeros(np.shape(condition),dtype=float)\n",
    "        numpy_mask[condition]=1\n",
    "        #mm[condition]=1\n",
    "        #mask.append(mm)\n",
    "        mask.append(torch.from_numpy(numpy_mask))\n",
    "        \n",
    "        frac += torch.sum( mask[i] ).item()\n",
    "        tot += mask[i].numel()\n",
    "\n",
    "    frac = frac/tot\n",
    "    \n",
    "    return mask, frac"
   ]
  },
  {
   "cell_type": "markdown",
   "metadata": {},
   "source": [
    "##### Test the LF mask\n",
    "\n",
    "To make a test let us create the mask with the LF function, then print the fraction of weights that received \n",
    "a mask equal to 1.\n",
    "Notice that with $\\alpha=1$ you are already pruning a substantial part of your network ($\\approx 98 \\%$ of the parameters).\n",
    "\n",
    "This means that the LF mask defines an highly *sparse* subnetwork."
   ]
  },
  {
   "cell_type": "code",
   "execution_count": 17,
   "metadata": {},
   "outputs": [
    {
     "name": "stdout",
     "output_type": "stream",
     "text": [
      "m= 0.01862640913122882 s= 0.02236664366658288\n",
      "Fraction of weights with mask=1:  1.87%\n",
      "Fraction of weights prunned    :  98.13%\n"
     ]
    }
   ],
   "source": [
    "model.load_state_dict(torch.load('models/trained_without_mask.pt') )\n",
    "alpha = 1\n",
    "with torch.no_grad():\n",
    "    mask, frac = LF_mask(model,alpha)\n",
    "print('Fraction of weights with mask=1:  {}%'.format(np.round(frac*100.0,2)) )\n",
    "print('Fraction of weights prunned    :  {}%'.format(np.round((1-frac)*100.0,2)) )\n",
    "prunning_fraction=1-frac"
   ]
  },
  {
   "cell_type": "markdown",
   "metadata": {},
   "source": [
    "# Exercise 5: Retraining with the LF mask\n",
    "\n",
    "Now we will verify that this highly sparse subnetwork is also *trainable* when if start from the original weights.\n",
    "    \n",
    "We will\n",
    "\n",
    "- rewind the network to its initial state\n",
    "- apply the FL mask *before* training: in this way we will obtain our sparse subnetwork\n",
    "- retrain just the subnetwork (it is enough to pass the mask to the train function: convince yourself that this is indeed the case)\n",
    "- evaluate it at the end\n",
    "\n",
    "Verify that the subnetwork is trainable if we start from the original weights (how much accuracy is \n",
    "reached on the test set?).\n",
    "What happens if we start from a new initialization? Verify also that the subnetwork is\n",
    "not as good as before in this case (how much accuracy do you reach now? Notice that in this context if a subnetwork reaches *only* the $\\approx 90 \\%$ - that one might think is not a bad result after all - of performance we consider it as *not trainable*, meaning only that the training is not completely effective).\n",
    "\n",
    "We do the initial step and you will complete the following code"
   ]
  },
  {
   "cell_type": "code",
   "execution_count": 18,
   "metadata": {
    "scrolled": true
   },
   "outputs": [
    {
     "name": "stderr",
     "output_type": "stream",
     "text": [
      "\r",
      "  0%|          | 0/5 [00:00<?, ?it/s]"
     ]
    },
    {
     "name": "stdout",
     "output_type": "stream",
     "text": [
      "\n",
      "Test set: Average loss: 2.2423, Accuracy: 3991/10000 (39.91%)\n",
      "\n"
     ]
    },
    {
     "name": "stderr",
     "output_type": "stream",
     "text": [
      "\r",
      " 20%|██        | 1/5 [00:25<01:43, 25.96s/it]"
     ]
    },
    {
     "name": "stdout",
     "output_type": "stream",
     "text": [
      "\n",
      "Test set: Average loss: 0.2062, Accuracy: 9452/10000 (94.52%)\n",
      "\n"
     ]
    },
    {
     "name": "stderr",
     "output_type": "stream",
     "text": [
      "\r",
      " 40%|████      | 2/5 [00:51<01:17, 25.94s/it]"
     ]
    },
    {
     "name": "stdout",
     "output_type": "stream",
     "text": [
      "\n",
      "Test set: Average loss: 0.1348, Accuracy: 9605/10000 (96.05%)\n",
      "\n"
     ]
    },
    {
     "name": "stderr",
     "output_type": "stream",
     "text": [
      "\r",
      " 60%|██████    | 3/5 [01:18<00:52, 26.03s/it]"
     ]
    },
    {
     "name": "stdout",
     "output_type": "stream",
     "text": [
      "\n",
      "Test set: Average loss: 0.1099, Accuracy: 9674/10000 (96.74%)\n",
      "\n"
     ]
    },
    {
     "name": "stderr",
     "output_type": "stream",
     "text": [
      "\r",
      " 80%|████████  | 4/5 [01:43<00:25, 25.86s/it]"
     ]
    },
    {
     "name": "stdout",
     "output_type": "stream",
     "text": [
      "\n",
      "Test set: Average loss: 0.0958, Accuracy: 9707/10000 (97.07%)\n",
      "\n"
     ]
    },
    {
     "name": "stderr",
     "output_type": "stream",
     "text": [
      "100%|██████████| 5/5 [02:08<00:00, 25.78s/it]"
     ]
    },
    {
     "name": "stdout",
     "output_type": "stream",
     "text": [
      "\n",
      "Test set: Average loss: 0.0876, Accuracy: 9726/10000 (97.26%)\n",
      "\n"
     ]
    },
    {
     "name": "stderr",
     "output_type": "stream",
     "text": [
      "\n"
     ]
    }
   ],
   "source": [
    "# rewind\n",
    "model.load_state_dict(torch.load('models/initial.pt') )\n",
    "\n",
    "# apply mask\n",
    "# by setting to zero the weights of the freezed parameters \n",
    "\n",
    "with torch.no_grad():\n",
    "  for (p, m) in zip(model.parameters(), mask):\n",
    "    p.mul_(m)    # p=p*m \n",
    "# re-instantiate optimizer\n",
    "# init the optimizer:\n",
    "optimizer = optim.SGD(model.parameters(), lr=lr, momentum=momentum)\n",
    "\n",
    "# train\n",
    "test(model, device, test_loader,verbose=True)  \n",
    "for epoch in tqdm(range(1, epochs + 1)):\n",
    "    train(model,device,train_loader,optimizer,epoch,mask=mask)\n",
    "    # evaluate at the end of training\n",
    "    test(model, device, test_loader,verbose=True)  \n",
    "\n",
    "torch.save(model.state_dict(), 'models/initial_trained_with_mask.pt')"
   ]
  },
  {
   "cell_type": "code",
   "execution_count": 19,
   "metadata": {
    "scrolled": false
   },
   "outputs": [
    {
     "name": "stderr",
     "output_type": "stream",
     "text": [
      "\r",
      "  0%|          | 0/5 [00:00<?, ?it/s]"
     ]
    },
    {
     "name": "stdout",
     "output_type": "stream",
     "text": [
      "\n",
      "Test set: Average loss: 2.3024, Accuracy: 1028/10000 (10.28%)\n",
      "\n"
     ]
    },
    {
     "name": "stderr",
     "output_type": "stream",
     "text": [
      "\r",
      " 20%|██        | 1/5 [00:27<01:50, 27.60s/it]"
     ]
    },
    {
     "name": "stdout",
     "output_type": "stream",
     "text": [
      "\n",
      "Test set: Average loss: 2.3004, Accuracy: 1028/10000 (10.28%)\n",
      "\n"
     ]
    },
    {
     "name": "stderr",
     "output_type": "stream",
     "text": [
      "\r",
      " 40%|████      | 2/5 [00:54<01:21, 27.29s/it]"
     ]
    },
    {
     "name": "stdout",
     "output_type": "stream",
     "text": [
      "\n",
      "Test set: Average loss: 2.2892, Accuracy: 2265/10000 (22.65%)\n",
      "\n"
     ]
    },
    {
     "name": "stderr",
     "output_type": "stream",
     "text": [
      "\r",
      " 60%|██████    | 3/5 [01:20<00:53, 26.97s/it]"
     ]
    },
    {
     "name": "stdout",
     "output_type": "stream",
     "text": [
      "\n",
      "Test set: Average loss: 0.8578, Accuracy: 7321/10000 (73.21%)\n",
      "\n"
     ]
    },
    {
     "name": "stderr",
     "output_type": "stream",
     "text": [
      "\r",
      " 80%|████████  | 4/5 [01:47<00:27, 27.05s/it]"
     ]
    },
    {
     "name": "stdout",
     "output_type": "stream",
     "text": [
      "\n",
      "Test set: Average loss: 0.5875, Accuracy: 8130/10000 (81.30%)\n",
      "\n"
     ]
    },
    {
     "name": "stderr",
     "output_type": "stream",
     "text": [
      "100%|██████████| 5/5 [02:14<00:00, 26.85s/it]"
     ]
    },
    {
     "name": "stdout",
     "output_type": "stream",
     "text": [
      "\n",
      "Test set: Average loss: 0.4684, Accuracy: 8548/10000 (85.48%)\n",
      "\n"
     ]
    },
    {
     "name": "stderr",
     "output_type": "stream",
     "text": [
      "\n"
     ]
    }
   ],
   "source": [
    "# rewind to a random state\n",
    "model = Net().to(device)\n",
    "\n",
    "# apply mask\n",
    "# by setting to zero the weights of the freezed parameters \n",
    "with torch.no_grad():\n",
    "  for (p, m) in zip(model.parameters(), mask):\n",
    "    p.mul_(m)    # p=p*m \n",
    "    \n",
    "# re-instantiate optimizer\n",
    "optimizer = optim.SGD(model.parameters(), lr=lr, momentum=momentum)\n",
    "\n",
    "# train\n",
    "test(model, device, test_loader,verbose=True)  \n",
    "for epoch in tqdm(range(1, epochs + 1)):\n",
    "    train(model,device,train_loader,optimizer,epoch,mask=mask)\n",
    "    # evaluate at the end of training\n",
    "    test(model, device, test_loader,verbose=True)\n"
   ]
  },
  {
   "cell_type": "markdown",
   "metadata": {},
   "source": [
    "### ANSWER:\n",
    "We could verify that the subnetwork is trainable, in fact if we start from the original weights we end up with more than 97% of accuracy, and the re-training starts with a high accuracy (about 40%).\n",
    "\n",
    "Instead if we start from a new random initialization the convergence is much slower and the final accuracy is only 85%, the network is not trainable. "
   ]
  },
  {
   "cell_type": "markdown",
   "metadata": {},
   "source": [
    "# Exercise 6: The LF is actually a very good mask (not still the SuperMask but...)\n",
    "\n",
    "Let us read again this sentence from the paper in section **5 Supermasks**:\n",
    "\n",
    "[...] The hypothesis above suggests that for certain mask criteria, like large final, that masking is training:\n",
    "the masking operation tends to move weights in the direction they would have moved during training.\n",
    "\n",
    "If so, just how powerful is this training operation? To answer this question, we can start all the way\n",
    "from the beginning—not training the network at all, but simply applying a mask to the randomly\n",
    "initialized network.\n",
    "\n",
    "It turns out that with a well-chosen mask, an untrained network can already attain a test accuracy\n",
    "far better than chance. This might come as a surprise, because if you use a randomly initialized and\n",
    "untrained network to, say, classify images of handwritten digits from the MNIST dataset, you would\n",
    "expect accuracy to be no better than chance (about $10 \\%$). But now imagine you multiply the network\n",
    "weights by a mask containing only zeros and ones. In this instance, weights are either unchanged or\n",
    "deleted entirely, but the resulting network now achieves nearly 40 percent accuracy at the task! This\n",
    "is strange, but it is exactly what we observe with masks created using the large final criterion [...]\n",
    "\n",
    "\n",
    "First of all two questions:\n",
    "\n",
    "- what is the hypothesis the authors are referring to at the beginning of this excerpt?\n",
    "- why is, in your opinion, reasonable that you could - at least in principle - obtain better than chance results applying the LF mask to a randomly initialized network?\n",
    "\n",
    "Write short answers to this questions below."
   ]
  },
  {
   "cell_type": "markdown",
   "metadata": {},
   "source": [
    "### Answer 1\n",
    "The autors are speaking of hypothesis that \"the benefit derived from freezing values to zero comes from the fact that those values were moving towards zero anyway\". It indicates that the sparse neural network resulting from the prunning contains enough information to allow the training and that the prunned weights correspond to paths of the neural network whose weight must vanish in order to minimize the cost function."
   ]
  },
  {
   "cell_type": "markdown",
   "metadata": {},
   "source": [
    "### Answer 2\n",
    "With the randomly initialized network the application of the LF mask sets to zero all the weights that would have vanished whith the training, leaving non-zero only the weights that would have reached a given threshold after training. So, the LF mask acts as a training by allowing, from the very first initial state, to have a lower cost function than the one of the dense neural network."
   ]
  },
  {
   "cell_type": "markdown",
   "metadata": {},
   "source": [
    "Our aim is now to reproduce the phenomenon evidenced in this plot\n",
    "\n",
    "![](./figs_nb/supermask.png)\n",
    "\n",
    "We do not want to reproduce the numbers but just the *masking is training* effect.\n",
    "\n",
    "We will perform these steps:\n",
    "\n",
    "- rewind our network to its initial state\n",
    "- evaluate it once\n",
    "- apply the FL mask\n",
    "- repeat the evaluation on the subnetwork\n",
    "\n",
    "Consider that we are not re-training our network but just applying the LF mask.\n",
    "\n",
    "Then do the same for a random mask, creating one, with a level of pruning that\n",
    "matches the one found for the LF mask.\n",
    "\n",
    "    Hint: you should use \n",
    "    \n",
    "    rmask, rfrac = random_mask(model, 1-frac)\n",
    "    \n",
    "    where frac is computed on the LF mask\n",
    "\n",
    "What do you see? Are these results qualitatively similar to the ones plotted above?"
   ]
  },
  {
   "cell_type": "markdown",
   "metadata": {},
   "source": [
    "### Rewind to the initial network with random weights:"
   ]
  },
  {
   "cell_type": "code",
   "execution_count": 20,
   "metadata": {},
   "outputs": [
    {
     "name": "stdout",
     "output_type": "stream",
     "text": [
      "Accuracy of the randomly initialized network, without mask: 9.33\n"
     ]
    }
   ],
   "source": [
    "# rewind\n",
    "model.load_state_dict(torch.load('models/initial.pt') )\n",
    "\n",
    "#evaluate the network:\n",
    "acc_init=test(model, device, test_loader,verbose=False)  \n",
    "print('Accuracy of the randomly initialized network, without mask: {}'.format(acc_init) )"
   ]
  },
  {
   "cell_type": "markdown",
   "metadata": {},
   "source": [
    "### Network with random weights + random mask :"
   ]
  },
  {
   "cell_type": "code",
   "execution_count": 21,
   "metadata": {},
   "outputs": [
    {
     "name": "stdout",
     "output_type": "stream",
     "text": [
      "Accuracy of the randomly initialized network, with a random mask: 8.67\n"
     ]
    }
   ],
   "source": [
    "# compute random mask\n",
    "rmask, rfrac = random_mask(model, prunning_fraction)\n",
    "\n",
    "# apply random mask\n",
    "# by setting to zero the weights of the randomly chosen freezed parameters \n",
    "with torch.no_grad():\n",
    "  for (p, mr) in zip(model.parameters(), rmask):\n",
    "    p.mul_(mr)\n",
    "    \n",
    "#re-evaluate the network:\n",
    "acc_rand_subnetwork=test(model, device, test_loader,verbose=False)  \n",
    "print('Accuracy of the randomly initialized network, with a random mask: {}'.format(acc_rand_subnetwork) )"
   ]
  },
  {
   "cell_type": "markdown",
   "metadata": {},
   "source": [
    "### Network with random weights + LT mask :"
   ]
  },
  {
   "cell_type": "code",
   "execution_count": 22,
   "metadata": {},
   "outputs": [
    {
     "name": "stdout",
     "output_type": "stream",
     "text": [
      "\n",
      "Test set: Average loss: 2.3022, Accuracy: 933/10000 (9.33%)\n",
      "\n",
      "Accuracy of the randomly initialized subnetwork with a LF mask: 39.91\n"
     ]
    }
   ],
   "source": [
    "# rewind to random\n",
    "model.load_state_dict(torch.load('models/initial.pt') )\n",
    "\n",
    "#evaluate the network:\n",
    "test(model, device, test_loader,verbose=True)  \n",
    "\n",
    "# apply mask\n",
    "# by setting to zero the weights of the freezed parameters \n",
    "with torch.no_grad():\n",
    "  for (p, m) in zip(model.parameters(), mask):\n",
    "    p.mul_(m)\n",
    "    \n",
    "#re-evaluate the network:\n",
    "acc_subnetwork=test(model, device, test_loader,verbose=False)  \n",
    "print('Accuracy of the randomly initialized subnetwork with a LF mask: {}'.format(acc_subnetwork) )"
   ]
  },
  {
   "cell_type": "markdown",
   "metadata": {},
   "source": [
    "Let us stop for a moment and think at what we obtained so far.\n",
    "With this version of LF masking we were able to identify a sub-network S \n",
    "of the original network N (orders of magnitude smaller) that had the following properties\n",
    "\n",
    "- it was *trainable*, recovering almost the original performance\n",
    "- was still very good in recognizing digits (well above chance) *without* any training\n",
    "\n",
    "These are amazing result, isn't it?\n",
    "\n",
    "What is left, for our experiments, is to see how far can we go with the pruning. At the moment we\n",
    "had a subnetwork whose size was about $\\approx 2\\%$ of the original."
   ]
  },
  {
   "cell_type": "markdown",
   "metadata": {},
   "source": [
    "### Exercise 7: How far can we go with the miniaturization?\n",
    "\n",
    "Then next task is to understand how much we can shrink our network without\n",
    "substantial harm.\n",
    "\n",
    "We will do the same analysis as in Exercise 5 in a sequence of increasing $\\alpha$ from 0 to 2, and \n",
    "than we will plot results.\n",
    "\n",
    "The useful plots are fraction of surviving weighs vs test accuracy, like the ones in this plot\n",
    "\n",
    "![](./figs_nb/plot_example.png)\n",
    "\n",
    "\n",
    "(but notice that your plots will not start from $100 \\%$ weights remaining, because for $\\alpha=0$ you are\n",
    "already pruning weights...)\n",
    "\n",
    "\n",
    "For each value of alpha do just one run (we will not compute error bars because it would take too long).\n",
    "At the end you will have a plot with just one curve, without error bars.\n",
    "\n",
    "If it takes to long just check a few values of $\\alpha$, \n",
    "for example $\\alpha=0.5,1.0,1.5$ and print a list of (fraction, performance)\n",
    "\n",
    "You will have to complete the function\n",
    "\n",
    "    alpha_training\n",
    "   \n",
    "below."
   ]
  },
  {
   "cell_type": "code",
   "execution_count": 23,
   "metadata": {},
   "outputs": [],
   "source": [
    "num_levels=10\n",
    "alphas = np.linspace(0,4,num_levels)\n",
    "\n",
    "# uncomment this if it takes too long\n",
    "#alphas = np.array([0.5, 1.0, 1.5])"
   ]
  },
  {
   "cell_type": "code",
   "execution_count": 24,
   "metadata": {},
   "outputs": [],
   "source": [
    "def alpha_training(model, alpha, epochs):\n",
    "    \n",
    "    # load final weights and compute mask at level alpha\n",
    "    model.load_state_dict(torch.load('models/trained_without_mask.pt') )\n",
    "    with torch.no_grad():\n",
    "        mask, frac = LF_mask(model,alpha)\n",
    "        \n",
    "    # rewind\n",
    "    model.load_state_dict(torch.load('models/initial.pt') )\n",
    "        \n",
    "    # apply mask\n",
    "    with torch.no_grad():\n",
    "      for (p, m) in zip(model.parameters(), mask):\n",
    "        p.mul_(m)\n",
    "    \n",
    "    # reinit optimizer\n",
    "    optimizer = optim.SGD(model.parameters(), lr=lr, momentum=momentum)\n",
    "\n",
    "    # train\n",
    "    for epoch in range(1, epochs + 1):\n",
    "        train(model,device,train_loader,optimizer,epoch,mask=mask)\n",
    "    acc=test(model, device, test_loader,verbose=True)\n",
    "\n",
    "    return acc,frac"
   ]
  },
  {
   "cell_type": "markdown",
   "metadata": {},
   "source": [
    "Iterate and save results"
   ]
  },
  {
   "cell_type": "code",
   "execution_count": 25,
   "metadata": {},
   "outputs": [
    {
     "name": "stderr",
     "output_type": "stream",
     "text": [
      "\r",
      "  0%|          | 0/10 [00:00<?, ?it/s]"
     ]
    },
    {
     "name": "stdout",
     "output_type": "stream",
     "text": [
      "m= 0.01862640913122882 s= 0.02236664366658288\n"
     ]
    },
    {
     "name": "stderr",
     "output_type": "stream",
     "text": [
      "\r",
      " 10%|█         | 1/10 [02:04<18:38, 124.32s/it]"
     ]
    },
    {
     "name": "stdout",
     "output_type": "stream",
     "text": [
      "\n",
      "Test set: Average loss: 0.0554, Accuracy: 9812/10000 (98.12%)\n",
      "\n",
      "alpha= 0.0 frac= 0.4847754477127215 (prunning level -0.5152245522872785 ) accuracy= 98.12\n",
      "m= 0.01862640913122882 s= 0.02236664366658288\n"
     ]
    },
    {
     "name": "stderr",
     "output_type": "stream",
     "text": [
      "\r",
      " 20%|██        | 2/10 [04:10<16:40, 125.02s/it]"
     ]
    },
    {
     "name": "stdout",
     "output_type": "stream",
     "text": [
      "\n",
      "Test set: Average loss: 0.0533, Accuracy: 9833/10000 (98.33%)\n",
      "\n",
      "alpha= 0.4444444444444444 frac= 0.21309733692122113 (prunning level -0.7869026630787789 ) accuracy= 98.33\n",
      "m= 0.01862640913122882 s= 0.02236664366658288\n"
     ]
    },
    {
     "name": "stderr",
     "output_type": "stream",
     "text": [
      "\r",
      " 30%|███       | 3/10 [06:13<14:30, 124.41s/it]"
     ]
    },
    {
     "name": "stdout",
     "output_type": "stream",
     "text": [
      "\n",
      "Test set: Average loss: 0.0708, Accuracy: 9773/10000 (97.73%)\n",
      "\n",
      "alpha= 0.8888888888888888 frac= 0.027711793634592186 (prunning level -0.9722882063654078 ) accuracy= 97.73\n",
      "m= 0.01862640913122882 s= 0.02236664366658288\n"
     ]
    },
    {
     "name": "stderr",
     "output_type": "stream",
     "text": [
      "\r",
      " 40%|████      | 4/10 [08:18<12:25, 124.33s/it]"
     ]
    },
    {
     "name": "stdout",
     "output_type": "stream",
     "text": [
      "\n",
      "Test set: Average loss: 0.1776, Accuracy: 9461/10000 (94.61%)\n",
      "\n",
      "alpha= 1.3333333333333333 frac= 0.008242089635334508 (prunning level -0.9917579103646655 ) accuracy= 94.61\n",
      "m= 0.01862640913122882 s= 0.02236664366658288\n"
     ]
    },
    {
     "name": "stderr",
     "output_type": "stream",
     "text": [
      "\r",
      " 50%|█████     | 5/10 [10:23<10:23, 124.65s/it]"
     ]
    },
    {
     "name": "stdout",
     "output_type": "stream",
     "text": [
      "\n",
      "Test set: Average loss: 2.2578, Accuracy: 1686/10000 (16.86%)\n",
      "\n",
      "alpha= 1.7777777777777777 frac= 0.004319383873063004 (prunning level -0.995680616126937 ) accuracy= 16.86\n",
      "m= 0.01862640913122882 s= 0.02236664366658288\n"
     ]
    },
    {
     "name": "stderr",
     "output_type": "stream",
     "text": [
      "\r",
      " 60%|██████    | 6/10 [12:30<08:21, 125.31s/it]"
     ]
    },
    {
     "name": "stdout",
     "output_type": "stream",
     "text": [
      "\n",
      "Test set: Average loss: 2.3026, Accuracy: 1009/10000 (10.09%)\n",
      "\n",
      "alpha= 2.2222222222222223 frac= 0.0027535492252018187 (prunning level -0.9972464507747982 ) accuracy= 10.09\n",
      "m= 0.01862640913122882 s= 0.02236664366658288\n"
     ]
    },
    {
     "name": "stderr",
     "output_type": "stream",
     "text": [
      "\r",
      " 70%|███████   | 7/10 [14:33<06:14, 124.81s/it]"
     ]
    },
    {
     "name": "stdout",
     "output_type": "stream",
     "text": [
      "\n",
      "Test set: Average loss: 2.3026, Accuracy: 1009/10000 (10.09%)\n",
      "\n",
      "alpha= 2.6666666666666665 frac= 0.0017885311311125545 (prunning level -0.9982114688688875 ) accuracy= 10.09\n",
      "m= 0.01862640913122882 s= 0.02236664366658288\n"
     ]
    },
    {
     "name": "stderr",
     "output_type": "stream",
     "text": [
      "\r",
      " 80%|████████  | 8/10 [16:38<04:09, 124.77s/it]"
     ]
    },
    {
     "name": "stdout",
     "output_type": "stream",
     "text": [
      "\n",
      "Test set: Average loss: 2.3026, Accuracy: 1009/10000 (10.09%)\n",
      "\n",
      "alpha= 3.1111111111111107 frac= 0.0012828245337292382 (prunning level -0.9987171754662708 ) accuracy= 10.09\n",
      "m= 0.01862640913122882 s= 0.02236664366658288\n"
     ]
    },
    {
     "name": "stderr",
     "output_type": "stream",
     "text": [
      "\r",
      " 90%|█████████ | 9/10 [18:43<02:04, 124.89s/it]"
     ]
    },
    {
     "name": "stdout",
     "output_type": "stream",
     "text": [
      "\n",
      "Test set: Average loss: 2.3026, Accuracy: 1009/10000 (10.09%)\n",
      "\n",
      "alpha= 3.5555555555555554 frac= 0.0009650180940892642 (prunning level -0.9990349819059108 ) accuracy= 10.09\n",
      "m= 0.01862640913122882 s= 0.02236664366658288\n"
     ]
    },
    {
     "name": "stderr",
     "output_type": "stream",
     "text": [
      "100%|██████████| 10/10 [20:50<00:00, 125.02s/it]"
     ]
    },
    {
     "name": "stdout",
     "output_type": "stream",
     "text": [
      "\n",
      "Test set: Average loss: 2.3026, Accuracy: 1009/10000 (10.09%)\n",
      "\n",
      "alpha= 4.0 frac= 0.000772478426278185 (prunning level -0.9992275215737219 ) accuracy= 10.09\n"
     ]
    },
    {
     "name": "stderr",
     "output_type": "stream",
     "text": [
      "\n"
     ]
    }
   ],
   "source": [
    "Stats = []\n",
    "Fracs = []\n",
    "for alpha in tqdm(alphas):  \n",
    "    stats, fracs = alpha_training(model, alpha, epochs)\n",
    "    Stats.append(stats)\n",
    "    Fracs.append(fracs)\n",
    "    print('alpha=',alpha,'frac=',fracs,'(prunning level',fracs-1,') accuracy=',stats)\n",
    "Stats = np.asarray(Stats)\n",
    "Fracs = np.asarray(Fracs)\n",
    "np.save('models/Stats_LF_mask.npy', Stats)\n",
    "np.save('models/Fracs_LF_mask.npy', Fracs)"
   ]
  },
  {
   "cell_type": "markdown",
   "metadata": {},
   "source": [
    "# Plots"
   ]
  },
  {
   "cell_type": "code",
   "execution_count": 26,
   "metadata": {},
   "outputs": [
    {
     "data": {
      "image/png": "[encoded data removed]",
      "text/plain": [
       "<Figure size 720x504 with 1 Axes>"
      ]
     },
     "metadata": {},
     "output_type": "display_data"
    }
   ],
   "source": [
    "fig = plt.figure(figsize=(10,7))\n",
    "plt.semilogx(Fracs*100, Stats[:],'-bo')\n",
    "plt.ylabel('test accuracy')\n",
    "plt.xlabel('weights remaining %')\n",
    "plt.ylim([80,100])\n",
    "plt.gca().invert_xaxis()\n",
    "plt.show()"
   ]
  },
  {
   "cell_type": "markdown",
   "metadata": {},
   "source": [
    "# Exercise 8: Compare LF mask with random masking\n",
    "\n",
    "Then next task is to compare the efficiency of LF mask with respect to random masking. This goes as before, the only difference being how you compute the mask.\n",
    "You will just have to complete the function\n",
    "    \n",
    "    random_training\n",
    "    \n",
    "    \n",
    "When you finish plot the results of the LF mask and the random mask together."
   ]
  },
  {
   "cell_type": "code",
   "execution_count": 27,
   "metadata": {},
   "outputs": [],
   "source": [
    "def random_training(model, level, epochs):\n",
    "    # rewind\n",
    "    model.load_state_dict(torch.load('models/initial.pt') )\n",
    "        \n",
    "    # compute random mask\n",
    "    mask, frac = random_mask(model, level)\n",
    "\n",
    "    # apply random mask\n",
    "    # by setting to zero the weights of the randomly chosen freezed parameters \n",
    "    with torch.no_grad():\n",
    "      for (p, m) in zip(model.parameters(), mask):\n",
    "        p.mul_(m)\n",
    "    \n",
    "    # reinit optimizer\n",
    "    optimizer = optim.SGD(model.parameters(), lr=lr, momentum=momentum)\n",
    "\n",
    "    # train\n",
    "    for epoch in range(1, epochs + 1):\n",
    "        train(model,device,train_loader,optimizer,epoch,mask=mask)\n",
    "    acc=test(model, device, test_loader,verbose=True)\n",
    "\n",
    "    return acc,frac"
   ]
  },
  {
   "cell_type": "code",
   "execution_count": 28,
   "metadata": {},
   "outputs": [
    {
     "name": "stdout",
     "output_type": "stream",
     "text": [
      "[0, 0.33, 0.66, 0.83, 0.86, 0.89, 0.92, 0.95, 0.98, 1]\n"
     ]
    }
   ],
   "source": [
    "# we define the levels of pruning here, from 0 to 1\n",
    "num_levels=10\n",
    "#pruning_levels = np.linspace(0,1,num_levels)\n",
    "pruning_levels=[0,0.33,0.66,0.83,0.86,0.89,0.92,0.95,0.98,1]\n",
    "print(pruning_levels)"
   ]
  },
  {
   "cell_type": "code",
   "execution_count": 29,
   "metadata": {},
   "outputs": [
    {
     "name": "stderr",
     "output_type": "stream",
     "text": [
      " 10%|█         | 1/10 [01:59<17:56, 119.56s/it]"
     ]
    },
    {
     "name": "stdout",
     "output_type": "stream",
     "text": [
      "\n",
      "Test set: Average loss: 0.0559, Accuracy: 9819/10000 (98.19%)\n",
      "\n",
      "prunning level 0 -> frac= 1.0  accuracy= 98.19\n"
     ]
    },
    {
     "name": "stderr",
     "output_type": "stream",
     "text": [
      "\r",
      " 20%|██        | 2/10 [04:01<16:01, 120.19s/it]"
     ]
    },
    {
     "name": "stdout",
     "output_type": "stream",
     "text": [
      "\n",
      "Test set: Average loss: 0.0640, Accuracy: 9806/10000 (98.06%)\n",
      "\n",
      "prunning level 0.33 -> frac= 0.669059107358263  accuracy= 98.06\n"
     ]
    },
    {
     "name": "stderr",
     "output_type": "stream",
     "text": [
      "\r",
      " 30%|███       | 3/10 [05:57<13:53, 119.06s/it]"
     ]
    },
    {
     "name": "stdout",
     "output_type": "stream",
     "text": [
      "\n",
      "Test set: Average loss: 0.1032, Accuracy: 9681/10000 (96.81%)\n",
      "\n",
      "prunning level 0.66 -> frac= 0.3387051127400946  accuracy= 96.81\n"
     ]
    },
    {
     "name": "stderr",
     "output_type": "stream",
     "text": [
      "\r",
      " 40%|████      | 4/10 [07:57<11:55, 119.25s/it]"
     ]
    },
    {
     "name": "stdout",
     "output_type": "stream",
     "text": [
      "\n",
      "Test set: Average loss: 0.2556, Accuracy: 9273/10000 (92.73%)\n",
      "\n",
      "prunning level 0.83 -> frac= 0.17068293588197087  accuracy= 92.73\n"
     ]
    },
    {
     "name": "stderr",
     "output_type": "stream",
     "text": [
      "\r",
      " 50%|█████     | 5/10 [09:57<09:58, 119.62s/it]"
     ]
    },
    {
     "name": "stdout",
     "output_type": "stream",
     "text": [
      "\n",
      "Test set: Average loss: 0.3766, Accuracy: 8842/10000 (88.42%)\n",
      "\n",
      "prunning level 0.86 -> frac= 0.14048204509603787  accuracy= 88.42\n"
     ]
    },
    {
     "name": "stderr",
     "output_type": "stream",
     "text": [
      "\r",
      " 60%|██████    | 6/10 [11:59<08:01, 120.27s/it]"
     ]
    },
    {
     "name": "stdout",
     "output_type": "stream",
     "text": [
      "\n",
      "Test set: Average loss: 2.2938, Accuracy: 2783/10000 (27.83%)\n",
      "\n",
      "prunning level 0.89 -> frac= 0.10962698339055396  accuracy= 27.83\n"
     ]
    },
    {
     "name": "stderr",
     "output_type": "stream",
     "text": [
      "\r",
      " 70%|███████   | 7/10 [14:03<06:03, 121.21s/it]"
     ]
    },
    {
     "name": "stdout",
     "output_type": "stream",
     "text": [
      "\n",
      "Test set: Average loss: 2.3023, Accuracy: 2292/10000 (22.92%)\n",
      "\n",
      "prunning level 0.92 -> frac= 0.08024032662150876  accuracy= 22.92\n"
     ]
    },
    {
     "name": "stderr",
     "output_type": "stream",
     "text": [
      "\r",
      " 80%|████████  | 8/10 [16:05<04:03, 121.63s/it]"
     ]
    },
    {
     "name": "stdout",
     "output_type": "stream",
     "text": [
      "\n",
      "Test set: Average loss: 2.3024, Accuracy: 1135/10000 (11.35%)\n",
      "\n",
      "prunning level 0.95 -> frac= 0.05003711608054189  accuracy= 11.35\n"
     ]
    },
    {
     "name": "stderr",
     "output_type": "stream",
     "text": [
      "\r",
      " 90%|█████████ | 9/10 [18:05<02:01, 121.02s/it]"
     ]
    },
    {
     "name": "stdout",
     "output_type": "stream",
     "text": [
      "\n",
      "Test set: Average loss: 2.3026, Accuracy: 1660/10000 (16.60%)\n",
      "\n",
      "prunning level 0.98 -> frac= 0.019655284401967153  accuracy= 16.6\n"
     ]
    },
    {
     "name": "stderr",
     "output_type": "stream",
     "text": [
      "100%|██████████| 10/10 [20:01<00:00, 120.13s/it]"
     ]
    },
    {
     "name": "stdout",
     "output_type": "stream",
     "text": [
      "\n",
      "Test set: Average loss: 2.3026, Accuracy: 1009/10000 (10.09%)\n",
      "\n",
      "prunning level 1 -> frac= 0.0  accuracy= 10.09\n"
     ]
    },
    {
     "name": "stderr",
     "output_type": "stream",
     "text": [
      "\n"
     ]
    }
   ],
   "source": [
    "Stats = []\n",
    "Fracs = []\n",
    "\n",
    "for level in tqdm(pruning_levels):  \n",
    "    stats, fracs = random_training(model, level, epochs)\n",
    "    Stats.append(stats)\n",
    "    Fracs.append(fracs)\n",
    "    print('prunning level',level,'-> frac=',fracs,' accuracy=',stats)\n",
    "Stats = np.asarray(Stats)\n",
    "Fracs = np.asarray(Fracs)\n",
    "\n",
    "np.save('models/Stats_random_mask.npy', Stats)\n",
    "np.save('models/Fracs_random_mask.npy', Fracs)"
   ]
  },
  {
   "cell_type": "code",
   "execution_count": 30,
   "metadata": {},
   "outputs": [],
   "source": [
    "Stats = np.load('models/Stats_LF_mask.npy')\n",
    "Fracs = np.load('models/Fracs_LF_mask.npy')\n",
    "Stats_rand = np.load('models/Stats_random_mask.npy')\n",
    "Fracs_rand = np.load('models/Fracs_random_mask.npy')"
   ]
  },
  {
   "cell_type": "markdown",
   "metadata": {},
   "source": [
    "# Plot together"
   ]
  },
  {
   "cell_type": "code",
   "execution_count": 31,
   "metadata": {},
   "outputs": [
    {
     "name": "stderr",
     "output_type": "stream",
     "text": [
      "/usr/lib/python3/dist-packages/ipykernel_launcher.py:7: UserWarning: Attempted to set non-positive left xlim on a log-scaled axis.\n",
      "Invalid limit will be ignored.\n",
      "  import sys\n"
     ]
    },
    {
     "data": {
      "image/png": "[encoded data removed]",
      "text/plain": [
       "<Figure size 720x504 with 1 Axes>"
      ]
     },
     "metadata": {},
     "output_type": "display_data"
    }
   ],
   "source": [
    "fig = plt.figure(figsize=(10,7))\n",
    "plt.semilogx(Fracs*100, Stats[:],'-bo',label='LF mask (freeze at zero)')\n",
    "# we leave out the last point if the frac is 0, in order to avoid the log(0)\n",
    "plt.semilogx(Fracs_rand[:]*100, Stats_rand[:],'-ro',label='random mask')\n",
    "plt.ylabel('test accuracy')\n",
    "plt.xlabel('weights remaining %')\n",
    "plt.xlim([0, 110])\n",
    "plt.ylim([0,100])\n",
    "plt.gca().invert_xaxis()\n",
    "plt.legend()\n",
    "plt.show()"
   ]
  },
  {
   "cell_type": "code",
   "execution_count": 32,
   "metadata": {},
   "outputs": [
    {
     "name": "stdout",
     "output_type": "stream",
     "text": [
      "100.0 98.19\n",
      "66.9059107358263 98.06\n",
      "33.87051127400946 96.81\n",
      "17.068293588197086 92.73\n",
      "14.048204509603787 88.42\n",
      "10.962698339055397 27.83\n",
      "8.024032662150876 22.92\n",
      "5.003711608054189 11.35\n",
      "1.9655284401967152 16.6\n",
      "0.0 10.09\n",
      "\n",
      "\n",
      "0.0 10.09\n",
      "1.9655284401967152 16.6\n",
      "5.003711608054189 11.35\n",
      "8.024032662150876 22.92\n",
      "10.962698339055397 27.83\n",
      "14.048204509603787 88.42\n",
      "17.068293588197086 92.73\n",
      "33.87051127400946 96.81\n",
      "66.9059107358263 98.06\n",
      "100.0 98.19\n"
     ]
    }
   ],
   "source": [
    "Stats_rand\n",
    "Fracs_rand\n",
    "ordering=Fracs_rand.argsort()\n",
    "for i in range(0,len(Stats_rand)):\n",
    "    print(Fracs_rand[i]*100,Stats_rand[i])\n",
    "Stats_rand=Stats_rand[ordering]\n",
    "Fracs_rand=Fracs_rand[ordering]\n",
    "print('\\n')\n",
    "for i in range(0,len(Stats_rand)):\n",
    "    print(Fracs_rand[i]*100,Stats_rand[i])"
   ]
  },
  {
   "cell_type": "markdown",
   "metadata": {},
   "source": [
    "It should be clear from this plot that \n",
    "\n",
    "- if we do random masking, pruning more than $20 \\%$ of the parameters severely affect the network performance \n",
    "- if we use the mask given by the LF criterion, we can prune much more without affecting the performance sensibly\n",
    "\n",
    "This means that, for example, we could endow an embedded system - at least in principle - with a tenfold smaller network just by using a very simple masking method."
   ]
  },
  {
   "cell_type": "markdown",
   "metadata": {},
   "source": [
    "### THAT'S NOT ALL !!!"
   ]
  },
  {
   "cell_type": "markdown",
   "metadata": {},
   "source": [
    "# OPTIONAL ASSIGNMENTS\n",
    "\n",
    "If you want to receive full grades you should work on the following two exercises.\n",
    "\n",
    "<span style=\"color:blue\">These exercises are just sketched: incomplete but reasonable attempts to solve them will be considered for evaluation. Variations on these themes, inspired by your curiosity (for example in the case of Exercise 1 you could also implement another type of mask, I would suggest in this case the *magnitude increase* mask), will be considered equivalently.</span>\n",
    "\n",
    "\n",
    "### Exercise 1\n",
    "\n",
    "Implement the original version of the LF mask (or another one of your choice).\n",
    "Check that it works for a few values of the pruning level and if you have time/will plot it as a function of pruning level."
   ]
  },
  {
   "cell_type": "code",
   "execution_count": 54,
   "metadata": {},
   "outputs": [],
   "source": [
    "def original_LF_mask(model,level):\n",
    "    '''\n",
    "    Construct large final (LF) mask. The threshold for \n",
    "    decision is determined globally.\n",
    "    '''\n",
    "    frac = 0\n",
    "    tot = 0\n",
    "    \n",
    "    # compute the mask : mask=1 if (|p_i| > m + \\alpha \\times s)\n",
    "    mask = []\n",
    "    for i, p in enumerate( model.parameters() ):\n",
    "        params=p.detach().numpy()\n",
    "        abs_flat_params=np.abs(params.flatten())\n",
    "        abs_sorted_params=np.sort(abs_flat_params)\n",
    "        threshold_index=int(len(abs_sorted_params)*level)\n",
    "        threshold=abs_sorted_params[threshold_index]\n",
    "        condition=np.abs(params)>threshold\n",
    "        numpy_mask=np.zeros(np.shape(condition),dtype=float)\n",
    "        numpy_mask[condition]=1\n",
    "        mask.append(torch.from_numpy(numpy_mask))\n",
    "        \n",
    "        frac += torch.sum( mask[i] ).item()\n",
    "        tot += mask[i].numel()\n",
    "\n",
    "    frac = frac/tot\n",
    "    \n",
    "    return mask, frac"
   ]
  },
  {
   "cell_type": "code",
   "execution_count": 55,
   "metadata": {},
   "outputs": [],
   "source": [
    "def original_LF_level_training(model, level, epochs):\n",
    "    \n",
    "    # load final weights and compute mask at level alpha\n",
    "    model.load_state_dict(torch.load('models/trained_without_mask.pt') )\n",
    "    with torch.no_grad():\n",
    "        mask, frac = original_LF_mask(model,level)\n",
    "        \n",
    "    # rewind\n",
    "    model.load_state_dict(torch.load('models/initial.pt') )\n",
    "        \n",
    "    # apply mask\n",
    "    with torch.no_grad():\n",
    "      for (p, m) in zip(model.parameters(), mask):\n",
    "        p.mul_(m)\n",
    "    \n",
    "    # reinit optimizer\n",
    "    optimizer = optim.SGD(model.parameters(), lr=lr, momentum=momentum)\n",
    "\n",
    "    # train\n",
    "    for epoch in range(1, epochs + 1):\n",
    "        train(model,device,train_loader,optimizer,epoch,mask=mask)\n",
    "    acc=test(model, device, test_loader,verbose=True)\n",
    "\n",
    "    return acc,frac"
   ]
  },
  {
   "cell_type": "code",
   "execution_count": 56,
   "metadata": {},
   "outputs": [
    {
     "name": "stderr",
     "output_type": "stream",
     "text": [
      "\r",
      "  0%|          | 0/11 [00:00<?, ?it/s]"
     ]
    },
    {
     "name": "stdout",
     "output_type": "stream",
     "text": [
      "[0, 0.8, 0.95, 0.98, 0.9825, 0.985, 0.9875, 0.99, 0.9925, 0.995, 0.9975]\n"
     ]
    },
    {
     "name": "stderr",
     "output_type": "stream",
     "text": [
      "\r",
      "  9%|▉         | 1/11 [01:57<19:37, 117.73s/it]"
     ]
    },
    {
     "name": "stdout",
     "output_type": "stream",
     "text": [
      "\n",
      "Test set: Average loss: 0.0508, Accuracy: 9843/10000 (98.43%)\n",
      "\n",
      "prunning level 0 -> frac= 0.999981441959729  accuracy= 98.43\n"
     ]
    },
    {
     "name": "stderr",
     "output_type": "stream",
     "text": [
      "\r",
      " 18%|█▊        | 2/11 [03:58<17:48, 118.75s/it]"
     ]
    },
    {
     "name": "stdout",
     "output_type": "stream",
     "text": [
      "\n",
      "Test set: Average loss: 0.0552, Accuracy: 9823/10000 (98.23%)\n",
      "\n",
      "prunning level 0.8 -> frac= 0.19998144195972906  accuracy= 98.23\n"
     ]
    },
    {
     "name": "stderr",
     "output_type": "stream",
     "text": [
      "\r",
      " 27%|██▋       | 3/11 [06:03<16:04, 120.55s/it]"
     ]
    },
    {
     "name": "stdout",
     "output_type": "stream",
     "text": [
      "\n",
      "Test set: Average loss: 0.1107, Accuracy: 9672/10000 (96.72%)\n",
      "\n",
      "prunning level 0.95 -> frac= 0.049983761714762924  accuracy= 96.72\n"
     ]
    },
    {
     "name": "stderr",
     "output_type": "stream",
     "text": [
      "\r",
      " 36%|███▋      | 4/11 [08:01<13:58, 119.83s/it]"
     ]
    },
    {
     "name": "stdout",
     "output_type": "stream",
     "text": [
      "\n",
      "Test set: Average loss: 0.2899, Accuracy: 9129/10000 (91.29%)\n",
      "\n",
      "prunning level 0.98 -> frac= 0.01998468961677647  accuracy= 91.29\n"
     ]
    },
    {
     "name": "stderr",
     "output_type": "stream",
     "text": [
      "\r",
      " 45%|████▌     | 5/11 [10:07<12:08, 121.48s/it]"
     ]
    },
    {
     "name": "stdout",
     "output_type": "stream",
     "text": [
      "\n",
      "Test set: Average loss: 0.3270, Accuracy: 9022/10000 (90.22%)\n",
      "\n",
      "prunning level 0.9825 -> frac= 0.017488633200334044  accuracy= 90.22\n"
     ]
    },
    {
     "name": "stderr",
     "output_type": "stream",
     "text": [
      "\r",
      " 55%|█████▍    | 6/11 [12:05<10:03, 120.66s/it]"
     ]
    },
    {
     "name": "stdout",
     "output_type": "stream",
     "text": [
      "\n",
      "Test set: Average loss: 0.5003, Accuracy: 8445/10000 (84.45%)\n",
      "\n",
      "prunning level 0.985 -> frac= 0.014987937273823883  accuracy= 84.45\n"
     ]
    },
    {
     "name": "stderr",
     "output_type": "stream",
     "text": [
      "\r",
      " 64%|██████▎   | 7/11 [14:04<07:59, 119.92s/it]"
     ]
    },
    {
     "name": "stdout",
     "output_type": "stream",
     "text": [
      "\n",
      "Test set: Average loss: 1.9491, Accuracy: 3269/10000 (32.69%)\n",
      "\n",
      "prunning level 0.9875 -> frac= 0.012491880857381461  accuracy= 32.69\n"
     ]
    },
    {
     "name": "stderr",
     "output_type": "stream",
     "text": [
      "\r",
      " 73%|███████▎  | 8/11 [16:02<05:58, 119.48s/it]"
     ]
    },
    {
     "name": "stdout",
     "output_type": "stream",
     "text": [
      "\n",
      "Test set: Average loss: 2.2998, Accuracy: 1993/10000 (19.93%)\n",
      "\n",
      "prunning level 0.99 -> frac= 0.009986545420803563  accuracy= 19.93\n"
     ]
    },
    {
     "name": "stderr",
     "output_type": "stream",
     "text": [
      "\r",
      " 82%|████████▏ | 9/11 [18:02<03:59, 119.73s/it]"
     ]
    },
    {
     "name": "stdout",
     "output_type": "stream",
     "text": [
      "\n",
      "Test set: Average loss: 2.3021, Accuracy: 1507/10000 (15.07%)\n",
      "\n",
      "prunning level 0.9925 -> frac= 0.007490489004361139  accuracy= 15.07\n"
     ]
    },
    {
     "name": "stderr",
     "output_type": "stream",
     "text": [
      "\r",
      " 91%|█████████ | 10/11 [20:01<01:59, 119.41s/it]"
     ]
    },
    {
     "name": "stdout",
     "output_type": "stream",
     "text": [
      "\n",
      "Test set: Average loss: 2.3025, Accuracy: 1009/10000 (10.09%)\n",
      "\n",
      "prunning level 0.995 -> frac= 0.004989793077850979  accuracy= 10.09\n"
     ]
    },
    {
     "name": "stderr",
     "output_type": "stream",
     "text": [
      "100%|██████████| 11/11 [22:04<00:00, 120.43s/it]"
     ]
    },
    {
     "name": "stdout",
     "output_type": "stream",
     "text": [
      "\n",
      "Test set: Average loss: 2.3026, Accuracy: 826/10000 (8.26%)\n",
      "\n",
      "prunning level 0.9975 -> frac= 0.0024937366614085554  accuracy= 8.26\n"
     ]
    },
    {
     "name": "stderr",
     "output_type": "stream",
     "text": [
      "\n"
     ]
    }
   ],
   "source": [
    "# we define the levels of pruning here, from 0 to 1\n",
    "num_levels=10\n",
    "#pruning_levels = np.linspace(0,1,num_levels)\n",
    "pruning_levels=[0,0.8,0.95,0.98,0.9825,0.985,0.9875,0.99,0.9925,0.995,0.9975]\n",
    "print(pruning_levels)\n",
    "Stats = []\n",
    "Fracs = []\n",
    "\n",
    "for level in tqdm(pruning_levels):  \n",
    "    stats, fracs = original_LF_level_training(model, level, epochs)\n",
    "    Stats.append(stats)\n",
    "    Fracs.append(fracs)\n",
    "    print('prunning level',level,'-> frac=',fracs,' accuracy=',stats)\n",
    "Stats = np.asarray(Stats)\n",
    "Fracs = np.asarray(Fracs)\n",
    "\n",
    "np.save('models/Stats_original_LF_mask.npy', Stats)\n",
    "np.save('models/Fracs_original_LF_mask.npy', Fracs)"
   ]
  },
  {
   "cell_type": "code",
   "execution_count": 57,
   "metadata": {},
   "outputs": [
    {
     "name": "stderr",
     "output_type": "stream",
     "text": [
      "/usr/lib/python3/dist-packages/ipykernel_launcher.py:14: UserWarning: Attempted to set non-positive left xlim on a log-scaled axis.\n",
      "Invalid limit will be ignored.\n",
      "  \n"
     ]
    },
    {
     "data": {
      "image/png": "[encoded data removed]",
      "text/plain": [
       "<Figure size 720x504 with 1 Axes>"
      ]
     },
     "metadata": {},
     "output_type": "display_data"
    }
   ],
   "source": [
    "Stats = np.load('models/Stats_LF_mask.npy')\n",
    "Fracs = np.load('models/Fracs_LF_mask.npy')\n",
    "Stats_orig = np.load('models/Stats_original_LF_mask.npy')\n",
    "Fracs_orig = np.load('models/Fracs_original_LF_mask.npy')\n",
    "Stats_rand = np.load('models/Stats_random_mask.npy')\n",
    "Fracs_rand = np.load('models/Fracs_random_mask.npy')\n",
    "fig = plt.figure(figsize=(10,7))\n",
    "plt.semilogx(Fracs*100, Stats[:],'-bo',label='LF mask (freeze at zero)')\n",
    "plt.semilogx(Fracs_orig*100, Stats_orig[:],'-go',label='original LF mask (freeze at zero)')\n",
    "# we leave out the last point if the frac is 0, in order to avoid the log(0)\n",
    "plt.semilogx(Fracs_rand[:]*100, Stats_rand[:],'-ro',label='random mask')\n",
    "plt.ylabel('test accuracy')\n",
    "plt.xlabel('weights remaining %')\n",
    "plt.xlim([0, 110])\n",
    "plt.ylim([0,100])\n",
    "plt.gca().invert_xaxis()\n",
    "plt.legend()\n",
    "plt.show()"
   ]
  },
  {
   "cell_type": "markdown",
   "metadata": {},
   "source": [
    "#### Interpretation of the results\n",
    "The original LF masks (the one described in the article) performs worst than the one proposed at the beginning of this notebook. \n",
    "An explaination seems to be that the original LF acts by masking in every layer the top x% of the weights, so that every layer has the same percentage of frozen weights. This seems to be non-optimal, and using instead the LF mask  proposed at the beginning of this notebook allows to increase the sparsity of the network while maintaining trainable networks.\n",
    "The reason for that might might that all layers are different and act differently on the data, so that in some layers larger portions of the weights would tend to zero, while in other layers the portion of weights that would have vanished is smaller."
   ]
  },
  {
   "cell_type": "markdown",
   "metadata": {},
   "source": [
    "### Exercise 2\n",
    "\n",
    "Pruning means setting exactly to zero the weigths we want to eliminate.\n",
    "What if, on the contrary, we keep these weigths frozen at their initialization values? \n",
    "\n",
    "In this case notice that we are *not* pruning the network.\n",
    "In order to do that there is just a very simple thing to do (or not do) in the function alpha_training.\n",
    "Find it, make this new experiment and plot all the \n",
    "three results together (with LF masking, random masking and this version). \n",
    "\n",
    "(You can do that with both versions of the LF masking: the original version of the optional Exercise 1 or our version: choose whatever you want).\n",
    "\n",
    "If you want you could also add a test to see that the freezed parameters \n",
    "do not move from their initial values, by constructing a suitable alert function."
   ]
  },
  {
   "cell_type": "code",
   "execution_count": 58,
   "metadata": {},
   "outputs": [],
   "source": [
    "def original_LF_level_training(model, level, epochs,pruning=True):\n",
    "    \n",
    "    # load final weights and compute mask at level alpha\n",
    "    model.load_state_dict(torch.load('models/trained_without_mask.pt') )\n",
    "    with torch.no_grad():\n",
    "        mask, frac = original_LF_mask(model,level)\n",
    "        \n",
    "    # rewind\n",
    "    model.load_state_dict(torch.load('models/initial.pt') )\n",
    "    \n",
    "    if(pruning):\n",
    "        # apply mask\n",
    "        with torch.no_grad():\n",
    "          for (p, m) in zip(model.parameters(), mask):\n",
    "            p.mul_(m)\n",
    "    \n",
    "    # reinit optimizer\n",
    "    optimizer = optim.SGD(model.parameters(), lr=lr, momentum=momentum)\n",
    "\n",
    "    # train\n",
    "    for epoch in range(1, epochs + 1):\n",
    "        train(model,device,train_loader,optimizer,epoch,mask=mask)\n",
    "    acc=test(model, device, test_loader,verbose=True)\n",
    "\n",
    "    return acc,frac"
   ]
  },
  {
   "cell_type": "code",
   "execution_count": 59,
   "metadata": {},
   "outputs": [
    {
     "name": "stderr",
     "output_type": "stream",
     "text": [
      "\r",
      "  0%|          | 0/10 [00:00<?, ?it/s]"
     ]
    },
    {
     "name": "stdout",
     "output_type": "stream",
     "text": [
      "[0, 0.3, 0.6, 0.8, 0.9, 0.95, 0.98, 0.99, 0.995, 0.999]\n"
     ]
    },
    {
     "name": "stderr",
     "output_type": "stream",
     "text": [
      "\r",
      " 10%|█         | 1/10 [02:16<20:26, 136.23s/it]"
     ]
    },
    {
     "name": "stdout",
     "output_type": "stream",
     "text": [
      "\n",
      "Test set: Average loss: 0.0512, Accuracy: 9836/10000 (98.36%)\n",
      "\n",
      "prunning level 0 -> frac= 0.999981441959729  accuracy= 98.36\n"
     ]
    },
    {
     "name": "stderr",
     "output_type": "stream",
     "text": [
      "\r",
      " 20%|██        | 2/10 [04:20<17:42, 132.78s/it]"
     ]
    },
    {
     "name": "stdout",
     "output_type": "stream",
     "text": [
      "\n",
      "Test set: Average loss: 0.0538, Accuracy: 9826/10000 (98.26%)\n",
      "\n",
      "prunning level 0.3 -> frac= 0.699981441959729  accuracy= 98.26\n"
     ]
    },
    {
     "name": "stderr",
     "output_type": "stream",
     "text": [
      "\r",
      " 30%|███       | 3/10 [06:24<15:10, 130.08s/it]"
     ]
    },
    {
     "name": "stdout",
     "output_type": "stream",
     "text": [
      "\n",
      "Test set: Average loss: 0.0651, Accuracy: 9802/10000 (98.02%)\n",
      "\n",
      "prunning level 0.6 -> frac= 0.39998144195972907  accuracy= 98.02\n"
     ]
    },
    {
     "name": "stderr",
     "output_type": "stream",
     "text": [
      "\r",
      " 40%|████      | 4/10 [08:29<12:50, 128.47s/it]"
     ]
    },
    {
     "name": "stdout",
     "output_type": "stream",
     "text": [
      "\n",
      "Test set: Average loss: 0.0784, Accuracy: 9751/10000 (97.51%)\n",
      "\n",
      "prunning level 0.8 -> frac= 0.19998144195972906  accuracy= 97.51\n"
     ]
    },
    {
     "name": "stderr",
     "output_type": "stream",
     "text": [
      "\r",
      " 50%|█████     | 5/10 [10:33<10:35, 127.16s/it]"
     ]
    },
    {
     "name": "stdout",
     "output_type": "stream",
     "text": [
      "\n",
      "Test set: Average loss: 0.0928, Accuracy: 9732/10000 (97.32%)\n",
      "\n",
      "prunning level 0.9 -> frac= 0.09998144195972905  accuracy= 97.32\n"
     ]
    },
    {
     "name": "stderr",
     "output_type": "stream",
     "text": [
      "\r",
      " 60%|██████    | 6/10 [12:36<08:23, 125.88s/it]"
     ]
    },
    {
     "name": "stdout",
     "output_type": "stream",
     "text": [
      "\n",
      "Test set: Average loss: 0.1129, Accuracy: 9655/10000 (96.55%)\n",
      "\n",
      "prunning level 0.95 -> frac= 0.049983761714762924  accuracy= 96.55\n"
     ]
    },
    {
     "name": "stderr",
     "output_type": "stream",
     "text": [
      "\r",
      " 70%|███████   | 7/10 [14:40<06:16, 125.39s/it]"
     ]
    },
    {
     "name": "stdout",
     "output_type": "stream",
     "text": [
      "\n",
      "Test set: Average loss: 0.1554, Accuracy: 9532/10000 (95.32%)\n",
      "\n",
      "prunning level 0.98 -> frac= 0.01998468961677647  accuracy= 95.32\n"
     ]
    },
    {
     "name": "stderr",
     "output_type": "stream",
     "text": [
      "\r",
      " 80%|████████  | 8/10 [16:43<04:09, 124.75s/it]"
     ]
    },
    {
     "name": "stdout",
     "output_type": "stream",
     "text": [
      "\n",
      "Test set: Average loss: 0.2185, Accuracy: 9353/10000 (93.53%)\n",
      "\n",
      "prunning level 0.99 -> frac= 0.009986545420803563  accuracy= 93.53\n"
     ]
    },
    {
     "name": "stderr",
     "output_type": "stream",
     "text": [
      "\r",
      " 90%|█████████ | 9/10 [18:48<02:04, 124.74s/it]"
     ]
    },
    {
     "name": "stdout",
     "output_type": "stream",
     "text": [
      "\n",
      "Test set: Average loss: 0.3162, Accuracy: 9085/10000 (90.85%)\n",
      "\n",
      "prunning level 0.995 -> frac= 0.004989793077850979  accuracy= 90.85\n"
     ]
    },
    {
     "name": "stderr",
     "output_type": "stream",
     "text": [
      "100%|██████████| 10/10 [20:54<00:00, 125.40s/it]"
     ]
    },
    {
     "name": "stdout",
     "output_type": "stream",
     "text": [
      "\n",
      "Test set: Average loss: 1.6166, Accuracy: 5318/10000 (53.18%)\n",
      "\n",
      "prunning level 0.999 -> frac= 0.0009905353994618168  accuracy= 53.18\n"
     ]
    },
    {
     "name": "stderr",
     "output_type": "stream",
     "text": [
      "\n"
     ]
    }
   ],
   "source": [
    "# we define the levels of pruning here, from 0 to 1\n",
    "num_levels=10\n",
    "#pruning_levels = np.linspace(0,1,num_levels)\n",
    "pruning_levels=[0,0.3,0.6,0.8,0.9,0.95,0.98,0.99,0.995,0.999]\n",
    "\n",
    "print(pruning_levels)\n",
    "Stats = []\n",
    "Fracs = []\n",
    "\n",
    "for level in tqdm(pruning_levels):  \n",
    "    stats, fracs = original_LF_level_training(model, level, epochs,pruning=False)\n",
    "    Stats.append(stats)\n",
    "    Fracs.append(fracs)\n",
    "    print('prunning level',level,'-> frac=',fracs,' accuracy=',stats)\n",
    "Stats = np.asarray(Stats)\n",
    "Fracs = np.asarray(Fracs)\n",
    "\n",
    "np.save('models/Stats_original_LF_mask_no_pruning.npy', Stats)\n",
    "np.save('models/Fracs_original_LF_mask_no_pruning.npy', Fracs)"
   ]
  },
  {
   "cell_type": "code",
   "execution_count": 60,
   "metadata": {},
   "outputs": [],
   "source": [
    "def alpha_training(model, alpha, epochs,pruning=True):\n",
    "    \n",
    "    # load final weights and compute mask at level alpha\n",
    "    model.load_state_dict(torch.load('models/trained_without_mask.pt') )\n",
    "    with torch.no_grad():\n",
    "        mask, frac = LF_mask(model,alpha)\n",
    "        \n",
    "    # rewind\n",
    "    model.load_state_dict(torch.load('models/initial.pt') )\n",
    "        \n",
    "    if(pruning):\n",
    "        # apply mask\n",
    "        with torch.no_grad():\n",
    "          for (p, m) in zip(model.parameters(), mask):\n",
    "            p.mul_(m)\n",
    "    \n",
    "    # reinit optimizer\n",
    "    optimizer = optim.SGD(model.parameters(), lr=lr, momentum=momentum)\n",
    "\n",
    "    # train\n",
    "    for epoch in range(1, epochs + 1):\n",
    "        train(model,device,train_loader,optimizer,epoch,mask=mask)\n",
    "    acc=test(model, device, test_loader,verbose=True)\n",
    "\n",
    "    return acc,frac"
   ]
  },
  {
   "cell_type": "code",
   "execution_count": 61,
   "metadata": {},
   "outputs": [
    {
     "name": "stderr",
     "output_type": "stream",
     "text": [
      "\r",
      "  0%|          | 0/10 [00:00<?, ?it/s]"
     ]
    },
    {
     "name": "stdout",
     "output_type": "stream",
     "text": [
      "m= 0.01862640913122882 s= 0.02236664366658288\n"
     ]
    },
    {
     "name": "stderr",
     "output_type": "stream",
     "text": [
      "\r",
      " 10%|█         | 1/10 [02:04<18:38, 124.28s/it]"
     ]
    },
    {
     "name": "stdout",
     "output_type": "stream",
     "text": [
      "\n",
      "Test set: Average loss: 0.0720, Accuracy: 9767/10000 (97.67%)\n",
      "\n",
      "alpha= 0.0 frac= 0.4847754477127215 (prunning level -0.5152245522872785 ) accuracy= 97.67\n",
      "m= 0.01862640913122882 s= 0.02236664366658288\n"
     ]
    },
    {
     "name": "stderr",
     "output_type": "stream",
     "text": [
      "\r",
      " 20%|██        | 2/10 [04:08<16:33, 124.19s/it]"
     ]
    },
    {
     "name": "stdout",
     "output_type": "stream",
     "text": [
      "\n",
      "Test set: Average loss: 0.0658, Accuracy: 9804/10000 (98.04%)\n",
      "\n",
      "alpha= 0.4444444444444444 frac= 0.21309733692122113 (prunning level -0.7869026630787789 ) accuracy= 98.04\n",
      "m= 0.01862640913122882 s= 0.02236664366658288\n"
     ]
    },
    {
     "name": "stderr",
     "output_type": "stream",
     "text": [
      "\r",
      " 30%|███       | 3/10 [06:12<14:28, 124.12s/it]"
     ]
    },
    {
     "name": "stdout",
     "output_type": "stream",
     "text": [
      "\n",
      "Test set: Average loss: 0.0866, Accuracy: 9738/10000 (97.38%)\n",
      "\n",
      "alpha= 0.8888888888888888 frac= 0.027711793634592186 (prunning level -0.9722882063654078 ) accuracy= 97.38\n",
      "m= 0.01862640913122882 s= 0.02236664366658288\n"
     ]
    },
    {
     "name": "stderr",
     "output_type": "stream",
     "text": [
      "\r",
      " 40%|████      | 4/10 [08:28<12:46, 127.69s/it]"
     ]
    },
    {
     "name": "stdout",
     "output_type": "stream",
     "text": [
      "\n",
      "Test set: Average loss: 0.1276, Accuracy: 9604/10000 (96.04%)\n",
      "\n",
      "alpha= 1.3333333333333333 frac= 0.008242089635334508 (prunning level -0.9917579103646655 ) accuracy= 96.04\n",
      "m= 0.01862640913122882 s= 0.02236664366658288\n"
     ]
    },
    {
     "name": "stderr",
     "output_type": "stream",
     "text": [
      "\r",
      " 50%|█████     | 5/10 [10:49<10:59, 131.81s/it]"
     ]
    },
    {
     "name": "stdout",
     "output_type": "stream",
     "text": [
      "\n",
      "Test set: Average loss: 0.1654, Accuracy: 9508/10000 (95.08%)\n",
      "\n",
      "alpha= 1.7777777777777777 frac= 0.004319383873063004 (prunning level -0.995680616126937 ) accuracy= 95.08\n",
      "m= 0.01862640913122882 s= 0.02236664366658288\n"
     ]
    },
    {
     "name": "stderr",
     "output_type": "stream",
     "text": [
      "\r",
      " 60%|██████    | 6/10 [13:30<09:21, 140.42s/it]"
     ]
    },
    {
     "name": "stdout",
     "output_type": "stream",
     "text": [
      "\n",
      "Test set: Average loss: 0.2058, Accuracy: 9356/10000 (93.56%)\n",
      "\n",
      "alpha= 2.2222222222222223 frac= 0.0027535492252018187 (prunning level -0.9972464507747982 ) accuracy= 93.56\n",
      "m= 0.01862640913122882 s= 0.02236664366658288\n"
     ]
    },
    {
     "name": "stderr",
     "output_type": "stream",
     "text": [
      "\r",
      " 70%|███████   | 7/10 [15:57<07:07, 142.55s/it]"
     ]
    },
    {
     "name": "stdout",
     "output_type": "stream",
     "text": [
      "\n",
      "Test set: Average loss: 0.2636, Accuracy: 9161/10000 (91.61%)\n",
      "\n",
      "alpha= 2.6666666666666665 frac= 0.0017885311311125545 (prunning level -0.9982114688688875 ) accuracy= 91.61\n",
      "m= 0.01862640913122882 s= 0.02236664366658288\n"
     ]
    },
    {
     "name": "stderr",
     "output_type": "stream",
     "text": [
      "\r",
      " 80%|████████  | 8/10 [18:36<04:54, 147.42s/it]"
     ]
    },
    {
     "name": "stdout",
     "output_type": "stream",
     "text": [
      "\n",
      "Test set: Average loss: 0.4077, Accuracy: 8687/10000 (86.87%)\n",
      "\n",
      "alpha= 3.1111111111111107 frac= 0.0012828245337292382 (prunning level -0.9987171754662708 ) accuracy= 86.87\n",
      "m= 0.01862640913122882 s= 0.02236664366658288\n"
     ]
    },
    {
     "name": "stderr",
     "output_type": "stream",
     "text": [
      "\r",
      " 90%|█████████ | 9/10 [21:04<02:27, 147.48s/it]"
     ]
    },
    {
     "name": "stdout",
     "output_type": "stream",
     "text": [
      "\n",
      "Test set: Average loss: 0.6530, Accuracy: 7968/10000 (79.68%)\n",
      "\n",
      "alpha= 3.5555555555555554 frac= 0.0009650180940892642 (prunning level -0.9990349819059108 ) accuracy= 79.68\n",
      "m= 0.01862640913122882 s= 0.02236664366658288\n"
     ]
    },
    {
     "name": "stderr",
     "output_type": "stream",
     "text": [
      "100%|██████████| 10/10 [23:29<00:00, 140.97s/it]"
     ]
    },
    {
     "name": "stdout",
     "output_type": "stream",
     "text": [
      "\n",
      "Test set: Average loss: 1.4822, Accuracy: 5140/10000 (51.40%)\n",
      "\n",
      "alpha= 4.0 frac= 0.000772478426278185 (prunning level -0.9992275215737219 ) accuracy= 51.4\n"
     ]
    },
    {
     "name": "stderr",
     "output_type": "stream",
     "text": [
      "\n"
     ]
    }
   ],
   "source": [
    "num_levels=10\n",
    "alphas = np.linspace(0,4,num_levels)\n",
    "Stats = []\n",
    "Fracs = []\n",
    "for alpha in tqdm(alphas):  \n",
    "    stats, fracs = alpha_training(model, alpha, epochs,pruning=False)\n",
    "    Stats.append(stats)\n",
    "    Fracs.append(fracs)\n",
    "    print('alpha=',alpha,'frac=',fracs,'(prunning level',fracs-1,') accuracy=',stats)\n",
    "Stats = np.asarray(Stats)\n",
    "Fracs = np.asarray(Fracs)\n",
    "np.save('models/Stats_LF_mask_no_pruning.npy', Stats)\n",
    "np.save('models/Fracs_LF_mask_no_pruning.npy', Fracs)"
   ]
  },
  {
   "cell_type": "code",
   "execution_count": 62,
   "metadata": {},
   "outputs": [
    {
     "name": "stderr",
     "output_type": "stream",
     "text": [
      "/usr/lib/python3/dist-packages/ipykernel_launcher.py:20: UserWarning: Attempted to set non-positive left xlim on a log-scaled axis.\n",
      "Invalid limit will be ignored.\n"
     ]
    },
    {
     "data": {
      "image/png": "[encoded data removed]",
      "text/plain": [
       "<Figure size 720x504 with 1 Axes>"
      ]
     },
     "metadata": {},
     "output_type": "display_data"
    }
   ],
   "source": [
    "Stats = np.load('models/Stats_LF_mask.npy')\n",
    "Fracs = np.load('models/Fracs_LF_mask.npy')\n",
    "Stats_orig = np.load('models/Stats_original_LF_mask.npy')\n",
    "Fracs_orig = np.load('models/Fracs_original_LF_mask.npy')\n",
    "Stats_rand = np.load('models/Stats_random_mask.npy')\n",
    "Fracs_rand = np.load('models/Fracs_random_mask.npy')\n",
    "Stats_NP = np.load('models/Stats_LF_mask_no_pruning.npy')\n",
    "Fracs_NP = np.load('models/Fracs_LF_mask_no_pruning.npy')\n",
    "Stats_orig_NP = np.load('models/Stats_original_LF_mask_no_pruning.npy')\n",
    "Fracs_orig_NP = np.load('models/Fracs_original_LF_mask_no_pruning.npy')\n",
    "fig = plt.figure(figsize=(10,7))\n",
    "plt.semilogx(Fracs*100, Stats[:],'-bo',label='LF mask (freeze at zero)')\n",
    "plt.semilogx(Fracs_orig*100, Stats_orig[:],'-go',label='original LF mask (freeze at zero)')\n",
    "plt.semilogx(Fracs_NP*100, Stats_NP[:],'-bx',alpha=0.5,label='LF mask (freeze at original value)')\n",
    "plt.semilogx(Fracs_orig_NP*100, Stats_orig_NP[:],'-gx',alpha=0.5,label='original LF mask (freeze at original value)')\n",
    "# we leave out the last point if the frac is 0, in order to avoid the log(0)\n",
    "plt.semilogx(Fracs_rand[:]*100, Stats_rand[:],'-ro',label='random mask')\n",
    "plt.ylabel('test accuracy')\n",
    "plt.xlabel('weights remaining %')\n",
    "plt.xlim([0, 110])\n",
    "plt.ylim([0,100])\n",
    "plt.gca().invert_xaxis()\n",
    "plt.legend()\n",
    "plt.show()"
   ]
  },
  {
   "cell_type": "markdown",
   "metadata": {},
   "source": [
    "#### Interpretation of the results\n",
    "Here we can see that freezing the masks but maintaining the weights to their original values allows to maintain trainable networks for a higher number of frozen weights.\n",
    "This approach allows to create sparser networks respect to the prunned approach ; however the advantage of such an approach must be evaluated because the gain in memory or computational time needs to be measured. In fact, the non-null frozen weights must need to be considered in some way, which might eventually require some additional computational time or memory respect to the prunned network. Comparisons of the consumption of the two kind of networks must be necessary before beeing able to draw any conclusion. "
   ]
  },
  {
   "cell_type": "markdown",
   "metadata": {},
   "source": [
    "\n",
    "![](./figs_nb/Thats_all_folks.svg)\n"
   ]
  },
  {
   "cell_type": "code",
   "execution_count": null,
   "metadata": {},
   "outputs": [],
   "source": []
  }
 ],
 "metadata": {
  "kernelspec": {
   "display_name": "Python 3",
   "language": "python",
   "name": "python3"
  },
  "language_info": {
   "codemirror_mode": {
    "name": "ipython",
    "version": 3
   },
   "file_extension": ".py",
   "mimetype": "text/x-python",
   "name": "python",
   "nbconvert_exporter": "python",
   "pygments_lexer": "ipython3",
   "version": "3.6.8"
  }
 },
 "nbformat": 4,
 "nbformat_minor": 4
}
